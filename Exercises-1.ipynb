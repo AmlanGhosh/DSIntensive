{
 "cells": [
  {
   "cell_type": "code",
   "execution_count": 19,
   "metadata": {
    "collapsed": false
   },
   "outputs": [],
   "source": [
    "%matplotlib inline\n",
    "import pandas as pd"
   ]
  },
  {
   "cell_type": "code",
   "execution_count": 20,
   "metadata": {
    "collapsed": false
   },
   "outputs": [
    {
     "data": {
      "text/html": [
       "<style>body {\n",
       "    margin: 0;\n",
       "    font-family: Helvetica;\n",
       "}\n",
       "table.dataframe {\n",
       "    border-collapse: collapse;\n",
       "    border: none;\n",
       "}\n",
       "table.dataframe tr {\n",
       "    border: none;\n",
       "}\n",
       "table.dataframe td, table.dataframe th {\n",
       "    margin: 0;\n",
       "    border: 1px solid white;\n",
       "    padding-left: 0.25em;\n",
       "    padding-right: 0.25em;\n",
       "}\n",
       "table.dataframe th:not(:empty) {\n",
       "    background-color: #fec;\n",
       "    text-align: left;\n",
       "    font-weight: normal;\n",
       "}\n",
       "table.dataframe tr:nth-child(2) th:empty {\n",
       "    border-left: none;\n",
       "    border-right: 1px dashed #888;\n",
       "}\n",
       "table.dataframe td {\n",
       "    border: 2px solid #ccf;\n",
       "    background-color: #f4f4ff;\n",
       "}\n",
       "h3 {\n",
       "    color: white;\n",
       "    background-color: black;\n",
       "    padding: 0.5em;\n",
       "}\n",
       "</style>"
      ],
      "text/plain": [
       "<IPython.core.display.HTML object>"
      ]
     },
     "execution_count": 20,
     "metadata": {},
     "output_type": "execute_result"
    }
   ],
   "source": [
    "from IPython.core.display import HTML\n",
    "css = open('style-table.css').read() + open('style-notebook.css').read()\n",
    "HTML('<style>{}</style>'.format(css))"
   ]
  },
  {
   "cell_type": "code",
   "execution_count": 21,
   "metadata": {
    "collapsed": false
   },
   "outputs": [
    {
     "data": {
      "text/html": [
       "<div>\n",
       "<table border=\"1\" class=\"dataframe\">\n",
       "  <thead>\n",
       "    <tr style=\"text-align: right;\">\n",
       "      <th></th>\n",
       "      <th>title</th>\n",
       "      <th>year</th>\n",
       "    </tr>\n",
       "  </thead>\n",
       "  <tbody>\n",
       "    <tr>\n",
       "      <th>0</th>\n",
       "      <td>Una vez en la noche</td>\n",
       "      <td>1971</td>\n",
       "    </tr>\n",
       "    <tr>\n",
       "      <th>1</th>\n",
       "      <td>Assassins et voleurs</td>\n",
       "      <td>1957</td>\n",
       "    </tr>\n",
       "    <tr>\n",
       "      <th>2</th>\n",
       "      <td>Navy Wife</td>\n",
       "      <td>1935</td>\n",
       "    </tr>\n",
       "    <tr>\n",
       "      <th>3</th>\n",
       "      <td>The Boys Behind the Desk</td>\n",
       "      <td>2000</td>\n",
       "    </tr>\n",
       "    <tr>\n",
       "      <th>4</th>\n",
       "      <td>Grand Festival</td>\n",
       "      <td>2006</td>\n",
       "    </tr>\n",
       "  </tbody>\n",
       "</table>\n",
       "</div>"
      ],
      "text/plain": [
       "                      title  year\n",
       "0       Una vez en la noche  1971\n",
       "1      Assassins et voleurs  1957\n",
       "2                 Navy Wife  1935\n",
       "3  The Boys Behind the Desk  2000\n",
       "4            Grand Festival  2006"
      ]
     },
     "execution_count": 21,
     "metadata": {},
     "output_type": "execute_result"
    }
   ],
   "source": [
    "titles = pd.DataFrame.from_csv('data/titles.csv', index_col=None)\n",
    "titles.head()"
   ]
  },
  {
   "cell_type": "code",
   "execution_count": 22,
   "metadata": {
    "collapsed": false
   },
   "outputs": [
    {
     "data": {
      "text/html": [
       "<div>\n",
       "<table border=\"1\" class=\"dataframe\">\n",
       "  <thead>\n",
       "    <tr style=\"text-align: right;\">\n",
       "      <th></th>\n",
       "      <th>title</th>\n",
       "      <th>year</th>\n",
       "      <th>name</th>\n",
       "      <th>type</th>\n",
       "      <th>character</th>\n",
       "      <th>n</th>\n",
       "    </tr>\n",
       "  </thead>\n",
       "  <tbody>\n",
       "    <tr>\n",
       "      <th>0</th>\n",
       "      <td>Suuri illusioni</td>\n",
       "      <td>1985</td>\n",
       "      <td>Homo $</td>\n",
       "      <td>actor</td>\n",
       "      <td>Guests</td>\n",
       "      <td>22.0</td>\n",
       "    </tr>\n",
       "    <tr>\n",
       "      <th>1</th>\n",
       "      <td>Gangsta Rap: The Glockumentary</td>\n",
       "      <td>2007</td>\n",
       "      <td>Too $hort</td>\n",
       "      <td>actor</td>\n",
       "      <td>Himself</td>\n",
       "      <td>NaN</td>\n",
       "    </tr>\n",
       "    <tr>\n",
       "      <th>2</th>\n",
       "      <td>Menace II Society</td>\n",
       "      <td>1993</td>\n",
       "      <td>Too $hort</td>\n",
       "      <td>actor</td>\n",
       "      <td>Lew-Loc</td>\n",
       "      <td>27.0</td>\n",
       "    </tr>\n",
       "    <tr>\n",
       "      <th>3</th>\n",
       "      <td>Porndogs: The Adventures of Sadie</td>\n",
       "      <td>2009</td>\n",
       "      <td>Too $hort</td>\n",
       "      <td>actor</td>\n",
       "      <td>Bosco</td>\n",
       "      <td>3.0</td>\n",
       "    </tr>\n",
       "    <tr>\n",
       "      <th>4</th>\n",
       "      <td>Stop Pepper Palmer</td>\n",
       "      <td>2014</td>\n",
       "      <td>Too $hort</td>\n",
       "      <td>actor</td>\n",
       "      <td>Himself</td>\n",
       "      <td>NaN</td>\n",
       "    </tr>\n",
       "  </tbody>\n",
       "</table>\n",
       "</div>"
      ],
      "text/plain": [
       "                               title  year       name   type character     n\n",
       "0                    Suuri illusioni  1985     Homo $  actor    Guests  22.0\n",
       "1     Gangsta Rap: The Glockumentary  2007  Too $hort  actor   Himself   NaN\n",
       "2                  Menace II Society  1993  Too $hort  actor   Lew-Loc  27.0\n",
       "3  Porndogs: The Adventures of Sadie  2009  Too $hort  actor     Bosco   3.0\n",
       "4                 Stop Pepper Palmer  2014  Too $hort  actor   Himself   NaN"
      ]
     },
     "execution_count": 22,
     "metadata": {},
     "output_type": "execute_result"
    }
   ],
   "source": [
    "cast = pd.DataFrame.from_csv('data/cast.csv', index_col=None)\n",
    "cast.head()"
   ]
  },
  {
   "cell_type": "markdown",
   "metadata": {
    "collapsed": true
   },
   "source": [
    "### How many movies are listed in the titles dataframe?"
   ]
  },
  {
   "cell_type": "code",
   "execution_count": 23,
   "metadata": {
    "collapsed": false
   },
   "outputs": [
    {
     "data": {
      "text/plain": [
       "222285"
      ]
     },
     "execution_count": 23,
     "metadata": {},
     "output_type": "execute_result"
    }
   ],
   "source": [
    "len(titles)"
   ]
  },
  {
   "cell_type": "code",
   "execution_count": 24,
   "metadata": {
    "collapsed": false
   },
   "outputs": [
    {
     "data": {
      "text/html": [
       "<div>\n",
       "<table border=\"1\" class=\"dataframe\">\n",
       "  <thead>\n",
       "    <tr style=\"text-align: right;\">\n",
       "      <th></th>\n",
       "      <th>title</th>\n",
       "      <th>year</th>\n",
       "    </tr>\n",
       "  </thead>\n",
       "  <tbody>\n",
       "    <tr>\n",
       "      <th>0</th>\n",
       "      <td>Una vez en la noche</td>\n",
       "      <td>1971</td>\n",
       "    </tr>\n",
       "    <tr>\n",
       "      <th>1</th>\n",
       "      <td>Assassins et voleurs</td>\n",
       "      <td>1957</td>\n",
       "    </tr>\n",
       "    <tr>\n",
       "      <th>2</th>\n",
       "      <td>Navy Wife</td>\n",
       "      <td>1935</td>\n",
       "    </tr>\n",
       "  </tbody>\n",
       "</table>\n",
       "</div>"
      ],
      "text/plain": [
       "                  title  year\n",
       "0   Una vez en la noche  1971\n",
       "1  Assassins et voleurs  1957\n",
       "2             Navy Wife  1935"
      ]
     },
     "execution_count": 24,
     "metadata": {},
     "output_type": "execute_result"
    }
   ],
   "source": [
    "titles.head(3)"
   ]
  },
  {
   "cell_type": "markdown",
   "metadata": {
    "collapsed": true
   },
   "source": [
    "### What are the earliest two films listed in the titles dataframe?"
   ]
  },
  {
   "cell_type": "code",
   "execution_count": 25,
   "metadata": {
    "collapsed": false
   },
   "outputs": [
    {
     "data": {
      "text/html": [
       "<div>\n",
       "<table border=\"1\" class=\"dataframe\">\n",
       "  <thead>\n",
       "    <tr style=\"text-align: right;\">\n",
       "      <th></th>\n",
       "      <th>title</th>\n",
       "      <th>year</th>\n",
       "    </tr>\n",
       "  </thead>\n",
       "  <tbody>\n",
       "    <tr>\n",
       "      <th>147786</th>\n",
       "      <td>Miss Jerry</td>\n",
       "      <td>1894</td>\n",
       "    </tr>\n",
       "    <tr>\n",
       "      <th>73964</th>\n",
       "      <td>Reproduction of the Corbett and Jeffries Fight</td>\n",
       "      <td>1899</td>\n",
       "    </tr>\n",
       "  </tbody>\n",
       "</table>\n",
       "</div>"
      ],
      "text/plain": [
       "                                                 title  year\n",
       "147786                                      Miss Jerry  1894\n",
       "73964   Reproduction of the Corbett and Jeffries Fight  1899"
      ]
     },
     "execution_count": 25,
     "metadata": {},
     "output_type": "execute_result"
    }
   ],
   "source": [
    "titles.sort_values('year').head(2)"
   ]
  },
  {
   "cell_type": "code",
   "execution_count": null,
   "metadata": {
    "collapsed": true
   },
   "outputs": [],
   "source": []
  },
  {
   "cell_type": "markdown",
   "metadata": {
    "collapsed": true
   },
   "source": [
    "### How many movies have the title \"Hamlet\"?"
   ]
  },
  {
   "cell_type": "code",
   "execution_count": 26,
   "metadata": {
    "collapsed": false
   },
   "outputs": [
    {
     "data": {
      "text/html": [
       "<div>\n",
       "<table border=\"1\" class=\"dataframe\">\n",
       "  <thead>\n",
       "    <tr style=\"text-align: right;\">\n",
       "      <th></th>\n",
       "      <th>title</th>\n",
       "      <th>year</th>\n",
       "    </tr>\n",
       "  </thead>\n",
       "  <tbody>\n",
       "    <tr>\n",
       "      <th>15881</th>\n",
       "      <td>Hamlet</td>\n",
       "      <td>1973</td>\n",
       "    </tr>\n",
       "    <tr>\n",
       "      <th>36355</th>\n",
       "      <td>Hamlet</td>\n",
       "      <td>2000</td>\n",
       "    </tr>\n",
       "    <tr>\n",
       "      <th>45667</th>\n",
       "      <td>Hamlet</td>\n",
       "      <td>2011</td>\n",
       "    </tr>\n",
       "    <tr>\n",
       "      <th>50777</th>\n",
       "      <td>Hamlet</td>\n",
       "      <td>2015</td>\n",
       "    </tr>\n",
       "    <tr>\n",
       "      <th>52104</th>\n",
       "      <td>Hamlet</td>\n",
       "      <td>1969</td>\n",
       "    </tr>\n",
       "    <tr>\n",
       "      <th>64470</th>\n",
       "      <td>Hamlet</td>\n",
       "      <td>2009</td>\n",
       "    </tr>\n",
       "    <tr>\n",
       "      <th>84145</th>\n",
       "      <td>Hamlet</td>\n",
       "      <td>1996</td>\n",
       "    </tr>\n",
       "    <tr>\n",
       "      <th>128609</th>\n",
       "      <td>Hamlet</td>\n",
       "      <td>2016</td>\n",
       "    </tr>\n",
       "    <tr>\n",
       "      <th>131258</th>\n",
       "      <td>Hamlet</td>\n",
       "      <td>1954</td>\n",
       "    </tr>\n",
       "    <tr>\n",
       "      <th>134216</th>\n",
       "      <td>Hamlet</td>\n",
       "      <td>1921</td>\n",
       "    </tr>\n",
       "    <tr>\n",
       "      <th>160892</th>\n",
       "      <td>Hamlet</td>\n",
       "      <td>1948</td>\n",
       "    </tr>\n",
       "    <tr>\n",
       "      <th>160928</th>\n",
       "      <td>Hamlet</td>\n",
       "      <td>1911</td>\n",
       "    </tr>\n",
       "    <tr>\n",
       "      <th>161529</th>\n",
       "      <td>Hamlet</td>\n",
       "      <td>1987</td>\n",
       "    </tr>\n",
       "    <tr>\n",
       "      <th>162152</th>\n",
       "      <td>Hamlet</td>\n",
       "      <td>1990</td>\n",
       "    </tr>\n",
       "    <tr>\n",
       "      <th>181873</th>\n",
       "      <td>Hamlet</td>\n",
       "      <td>1910</td>\n",
       "    </tr>\n",
       "    <tr>\n",
       "      <th>187700</th>\n",
       "      <td>Hamlet</td>\n",
       "      <td>2014</td>\n",
       "    </tr>\n",
       "    <tr>\n",
       "      <th>189726</th>\n",
       "      <td>Hamlet</td>\n",
       "      <td>1964</td>\n",
       "    </tr>\n",
       "    <tr>\n",
       "      <th>192874</th>\n",
       "      <td>Hamlet</td>\n",
       "      <td>1913</td>\n",
       "    </tr>\n",
       "    <tr>\n",
       "      <th>208319</th>\n",
       "      <td>Hamlet</td>\n",
       "      <td>1976</td>\n",
       "    </tr>\n",
       "  </tbody>\n",
       "</table>\n",
       "</div>"
      ],
      "text/plain": [
       "         title  year\n",
       "15881   Hamlet  1973\n",
       "36355   Hamlet  2000\n",
       "45667   Hamlet  2011\n",
       "50777   Hamlet  2015\n",
       "52104   Hamlet  1969\n",
       "64470   Hamlet  2009\n",
       "84145   Hamlet  1996\n",
       "128609  Hamlet  2016\n",
       "131258  Hamlet  1954\n",
       "134216  Hamlet  1921\n",
       "160892  Hamlet  1948\n",
       "160928  Hamlet  1911\n",
       "161529  Hamlet  1987\n",
       "162152  Hamlet  1990\n",
       "181873  Hamlet  1910\n",
       "187700  Hamlet  2014\n",
       "189726  Hamlet  1964\n",
       "192874  Hamlet  1913\n",
       "208319  Hamlet  1976"
      ]
     },
     "execution_count": 26,
     "metadata": {},
     "output_type": "execute_result"
    }
   ],
   "source": [
    "t= titles\n",
    "r= t[titles.title==\"Hamlet\"]\n",
    "len(r)\n",
    "r"
   ]
  },
  {
   "cell_type": "code",
   "execution_count": null,
   "metadata": {
    "collapsed": false
   },
   "outputs": [],
   "source": []
  },
  {
   "cell_type": "markdown",
   "metadata": {
    "collapsed": true
   },
   "source": [
    "### How many movies are titled \"North by Northwest\"?"
   ]
  },
  {
   "cell_type": "code",
   "execution_count": 27,
   "metadata": {
    "collapsed": false
   },
   "outputs": [
    {
     "data": {
      "text/plain": [
       "1"
      ]
     },
     "execution_count": 27,
     "metadata": {},
     "output_type": "execute_result"
    }
   ],
   "source": [
    "len([titles.title == \"North by Northwest\"])"
   ]
  },
  {
   "cell_type": "code",
   "execution_count": null,
   "metadata": {
    "collapsed": true
   },
   "outputs": [],
   "source": []
  },
  {
   "cell_type": "markdown",
   "metadata": {
    "collapsed": true
   },
   "source": [
    "### When was the first movie titled \"Hamlet\" made?"
   ]
  },
  {
   "cell_type": "code",
   "execution_count": 28,
   "metadata": {
    "collapsed": false
   },
   "outputs": [
    {
     "data": {
      "text/plain": [
       "<bound method DataFrame.sort_values of          title  year\n",
       "15881   Hamlet  1973\n",
       "36355   Hamlet  2000\n",
       "45667   Hamlet  2011\n",
       "50777   Hamlet  2015\n",
       "52104   Hamlet  1969\n",
       "64470   Hamlet  2009\n",
       "84145   Hamlet  1996\n",
       "128609  Hamlet  2016\n",
       "131258  Hamlet  1954\n",
       "134216  Hamlet  1921\n",
       "160892  Hamlet  1948\n",
       "160928  Hamlet  1911\n",
       "161529  Hamlet  1987\n",
       "162152  Hamlet  1990\n",
       "181873  Hamlet  1910\n",
       "187700  Hamlet  2014\n",
       "189726  Hamlet  1964\n",
       "192874  Hamlet  1913\n",
       "208319  Hamlet  1976>"
      ]
     },
     "execution_count": 28,
     "metadata": {},
     "output_type": "execute_result"
    }
   ],
   "source": [
    "r.sort_values"
   ]
  },
  {
   "cell_type": "code",
   "execution_count": 29,
   "metadata": {
    "collapsed": false
   },
   "outputs": [
    {
     "name": "stderr",
     "output_type": "stream",
     "text": [
      "C:\\Users\\ghosh_amlan\\AppData\\Local\\Continuum\\Anaconda3\\lib\\site-packages\\ipykernel\\__main__.py:1: FutureWarning: sort(columns=....) is deprecated, use sort_values(by=.....)\n",
      "  if __name__ == '__main__':\n"
     ]
    },
    {
     "data": {
      "text/html": [
       "<div>\n",
       "<table border=\"1\" class=\"dataframe\">\n",
       "  <thead>\n",
       "    <tr style=\"text-align: right;\">\n",
       "      <th></th>\n",
       "      <th>title</th>\n",
       "      <th>year</th>\n",
       "    </tr>\n",
       "  </thead>\n",
       "  <tbody>\n",
       "    <tr>\n",
       "      <th>181873</th>\n",
       "      <td>Hamlet</td>\n",
       "      <td>1910</td>\n",
       "    </tr>\n",
       "  </tbody>\n",
       "</table>\n",
       "</div>"
      ],
      "text/plain": [
       "         title  year\n",
       "181873  Hamlet  1910"
      ]
     },
     "execution_count": 29,
     "metadata": {},
     "output_type": "execute_result"
    }
   ],
   "source": [
    "titles[titles.title == \"Hamlet\"].sort(\"year\").head(1)"
   ]
  },
  {
   "cell_type": "markdown",
   "metadata": {
    "collapsed": true
   },
   "source": [
    "### List all of the \"Treasure Island\" movies from earliest to most recent."
   ]
  },
  {
   "cell_type": "code",
   "execution_count": 30,
   "metadata": {
    "collapsed": false
   },
   "outputs": [
    {
     "data": {
      "text/html": [
       "<div>\n",
       "<table border=\"1\" class=\"dataframe\">\n",
       "  <thead>\n",
       "    <tr style=\"text-align: right;\">\n",
       "      <th></th>\n",
       "      <th>title</th>\n",
       "      <th>year</th>\n",
       "    </tr>\n",
       "  </thead>\n",
       "  <tbody>\n",
       "    <tr>\n",
       "      <th>121911</th>\n",
       "      <td>Treasure Island</td>\n",
       "      <td>1918</td>\n",
       "    </tr>\n",
       "    <tr>\n",
       "      <th>62987</th>\n",
       "      <td>Treasure Island</td>\n",
       "      <td>1920</td>\n",
       "    </tr>\n",
       "    <tr>\n",
       "      <th>189127</th>\n",
       "      <td>Treasure Island</td>\n",
       "      <td>1934</td>\n",
       "    </tr>\n",
       "    <tr>\n",
       "      <th>166331</th>\n",
       "      <td>Treasure Island</td>\n",
       "      <td>1950</td>\n",
       "    </tr>\n",
       "    <tr>\n",
       "      <th>86942</th>\n",
       "      <td>Treasure Island</td>\n",
       "      <td>1972</td>\n",
       "    </tr>\n",
       "    <tr>\n",
       "      <th>117013</th>\n",
       "      <td>Treasure Island</td>\n",
       "      <td>1973</td>\n",
       "    </tr>\n",
       "    <tr>\n",
       "      <th>26448</th>\n",
       "      <td>Treasure Island</td>\n",
       "      <td>1985</td>\n",
       "    </tr>\n",
       "    <tr>\n",
       "      <th>90130</th>\n",
       "      <td>Treasure Island</td>\n",
       "      <td>1999</td>\n",
       "    </tr>\n",
       "  </tbody>\n",
       "</table>\n",
       "</div>"
      ],
      "text/plain": [
       "                  title  year\n",
       "121911  Treasure Island  1918\n",
       "62987   Treasure Island  1920\n",
       "189127  Treasure Island  1934\n",
       "166331  Treasure Island  1950\n",
       "86942   Treasure Island  1972\n",
       "117013  Treasure Island  1973\n",
       "26448   Treasure Island  1985\n",
       "90130   Treasure Island  1999"
      ]
     },
     "execution_count": 30,
     "metadata": {},
     "output_type": "execute_result"
    }
   ],
   "source": [
    "titles[titles.title==\"Treasure Island\"].sort_values(\"year\")"
   ]
  },
  {
   "cell_type": "code",
   "execution_count": null,
   "metadata": {
    "collapsed": true
   },
   "outputs": [],
   "source": []
  },
  {
   "cell_type": "markdown",
   "metadata": {
    "collapsed": true
   },
   "source": [
    "### How many movies were made in the year 1950?"
   ]
  },
  {
   "cell_type": "code",
   "execution_count": 31,
   "metadata": {
    "collapsed": false
   },
   "outputs": [
    {
     "data": {
      "text/plain": [
       "1060"
      ]
     },
     "execution_count": 31,
     "metadata": {},
     "output_type": "execute_result"
    }
   ],
   "source": [
    "len(titles[titles.year==1950])"
   ]
  },
  {
   "cell_type": "code",
   "execution_count": null,
   "metadata": {
    "collapsed": true
   },
   "outputs": [],
   "source": []
  },
  {
   "cell_type": "markdown",
   "metadata": {
    "collapsed": true
   },
   "source": [
    "### How many movies were made in the year 1960?"
   ]
  },
  {
   "cell_type": "code",
   "execution_count": 32,
   "metadata": {
    "collapsed": false
   },
   "outputs": [
    {
     "data": {
      "text/plain": [
       "1485"
      ]
     },
     "execution_count": 32,
     "metadata": {},
     "output_type": "execute_result"
    }
   ],
   "source": [
    "len(titles[titles.year==1960])"
   ]
  },
  {
   "cell_type": "code",
   "execution_count": null,
   "metadata": {
    "collapsed": true
   },
   "outputs": [],
   "source": []
  },
  {
   "cell_type": "markdown",
   "metadata": {
    "collapsed": true
   },
   "source": [
    "### How many movies were made from 1950 through 1959?"
   ]
  },
  {
   "cell_type": "code",
   "execution_count": 33,
   "metadata": {
    "collapsed": false
   },
   "outputs": [
    {
     "data": {
      "text/plain": [
       "12261"
      ]
     },
     "execution_count": 33,
     "metadata": {},
     "output_type": "execute_result"
    }
   ],
   "source": [
    "t= titles\n",
    "len(t[(t.year>=1950) & (t.year<=1959)])"
   ]
  },
  {
   "cell_type": "code",
   "execution_count": null,
   "metadata": {
    "collapsed": true
   },
   "outputs": [],
   "source": []
  },
  {
   "cell_type": "markdown",
   "metadata": {
    "collapsed": true
   },
   "source": [
    "### In what years has a movie titled \"Batman\" been released?"
   ]
  },
  {
   "cell_type": "code",
   "execution_count": 34,
   "metadata": {
    "collapsed": false
   },
   "outputs": [
    {
     "data": {
      "text/plain": [
       "138669    1989\n",
       "151934    1943\n",
       "Name: year, dtype: int64"
      ]
     },
     "execution_count": 34,
     "metadata": {},
     "output_type": "execute_result"
    }
   ],
   "source": [
    "titles[titles.title==\"Batman\"].year\n"
   ]
  },
  {
   "cell_type": "code",
   "execution_count": null,
   "metadata": {
    "collapsed": true
   },
   "outputs": [],
   "source": []
  },
  {
   "cell_type": "markdown",
   "metadata": {
    "collapsed": true
   },
   "source": [
    "### How many roles were there in the movie \"Inception\"?"
   ]
  },
  {
   "cell_type": "code",
   "execution_count": 35,
   "metadata": {
    "collapsed": false
   },
   "outputs": [
    {
     "data": {
      "text/html": [
       "<div>\n",
       "<table border=\"1\" class=\"dataframe\">\n",
       "  <thead>\n",
       "    <tr style=\"text-align: right;\">\n",
       "      <th></th>\n",
       "      <th>title</th>\n",
       "      <th>year</th>\n",
       "      <th>name</th>\n",
       "      <th>type</th>\n",
       "      <th>character</th>\n",
       "      <th>n</th>\n",
       "    </tr>\n",
       "  </thead>\n",
       "  <tbody>\n",
       "    <tr>\n",
       "      <th>0</th>\n",
       "      <td>Suuri illusioni</td>\n",
       "      <td>1985</td>\n",
       "      <td>Homo $</td>\n",
       "      <td>actor</td>\n",
       "      <td>Guests</td>\n",
       "      <td>22.0</td>\n",
       "    </tr>\n",
       "    <tr>\n",
       "      <th>1</th>\n",
       "      <td>Gangsta Rap: The Glockumentary</td>\n",
       "      <td>2007</td>\n",
       "      <td>Too $hort</td>\n",
       "      <td>actor</td>\n",
       "      <td>Himself</td>\n",
       "      <td>NaN</td>\n",
       "    </tr>\n",
       "    <tr>\n",
       "      <th>2</th>\n",
       "      <td>Menace II Society</td>\n",
       "      <td>1993</td>\n",
       "      <td>Too $hort</td>\n",
       "      <td>actor</td>\n",
       "      <td>Lew-Loc</td>\n",
       "      <td>27.0</td>\n",
       "    </tr>\n",
       "    <tr>\n",
       "      <th>3</th>\n",
       "      <td>Porndogs: The Adventures of Sadie</td>\n",
       "      <td>2009</td>\n",
       "      <td>Too $hort</td>\n",
       "      <td>actor</td>\n",
       "      <td>Bosco</td>\n",
       "      <td>3.0</td>\n",
       "    </tr>\n",
       "    <tr>\n",
       "      <th>4</th>\n",
       "      <td>Stop Pepper Palmer</td>\n",
       "      <td>2014</td>\n",
       "      <td>Too $hort</td>\n",
       "      <td>actor</td>\n",
       "      <td>Himself</td>\n",
       "      <td>NaN</td>\n",
       "    </tr>\n",
       "    <tr>\n",
       "      <th>5</th>\n",
       "      <td>Townbiz</td>\n",
       "      <td>2010</td>\n",
       "      <td>Too $hort</td>\n",
       "      <td>actor</td>\n",
       "      <td>Himself</td>\n",
       "      <td>NaN</td>\n",
       "    </tr>\n",
       "    <tr>\n",
       "      <th>6</th>\n",
       "      <td>For Thy Love 2</td>\n",
       "      <td>2009</td>\n",
       "      <td>Bee Moe $lim</td>\n",
       "      <td>actor</td>\n",
       "      <td>Thug 1</td>\n",
       "      <td>NaN</td>\n",
       "    </tr>\n",
       "    <tr>\n",
       "      <th>7</th>\n",
       "      <td>Desire (III)</td>\n",
       "      <td>2014</td>\n",
       "      <td>Syaiful 'Ariffin</td>\n",
       "      <td>actor</td>\n",
       "      <td>Actor Playing Eteocles from 'Antigone'</td>\n",
       "      <td>NaN</td>\n",
       "    </tr>\n",
       "    <tr>\n",
       "      <th>8</th>\n",
       "      <td>When the Man Went South</td>\n",
       "      <td>2014</td>\n",
       "      <td>Taipaleti 'Atu'ake</td>\n",
       "      <td>actor</td>\n",
       "      <td>Two Palms - Ua'i Paame</td>\n",
       "      <td>8.0</td>\n",
       "    </tr>\n",
       "    <tr>\n",
       "      <th>9</th>\n",
       "      <td>Little Angel (Angelita)</td>\n",
       "      <td>2015</td>\n",
       "      <td>Michael 'babeepower' Viera</td>\n",
       "      <td>actor</td>\n",
       "      <td>Chico</td>\n",
       "      <td>9.0</td>\n",
       "    </tr>\n",
       "    <tr>\n",
       "      <th>10</th>\n",
       "      <td>Mixing Nia</td>\n",
       "      <td>1998</td>\n",
       "      <td>Michael 'babeepower' Viera</td>\n",
       "      <td>actor</td>\n",
       "      <td>Rapper</td>\n",
       "      <td>NaN</td>\n",
       "    </tr>\n",
       "    <tr>\n",
       "      <th>11</th>\n",
       "      <td>The Replacements</td>\n",
       "      <td>2000</td>\n",
       "      <td>Steven 'Bear'Boyd</td>\n",
       "      <td>actor</td>\n",
       "      <td>Defensive Tackle - Washington Sentinels</td>\n",
       "      <td>NaN</td>\n",
       "    </tr>\n",
       "    <tr>\n",
       "      <th>12</th>\n",
       "      <td>All Out Dysfunktion!</td>\n",
       "      <td>2016</td>\n",
       "      <td>Kirlew 'bliss' Vilbon</td>\n",
       "      <td>actor</td>\n",
       "      <td>Bliss</td>\n",
       "      <td>NaN</td>\n",
       "    </tr>\n",
       "    <tr>\n",
       "      <th>13</th>\n",
       "      <td>My Song for You</td>\n",
       "      <td>2010</td>\n",
       "      <td>George 'Bootsy' Thomas</td>\n",
       "      <td>actor</td>\n",
       "      <td>Cooley's Customer</td>\n",
       "      <td>16.0</td>\n",
       "    </tr>\n",
       "    <tr>\n",
       "      <th>14</th>\n",
       "      <td>My Song for You</td>\n",
       "      <td>2010</td>\n",
       "      <td>George 'Bootsy' Thomas</td>\n",
       "      <td>actor</td>\n",
       "      <td>Celebration Guest</td>\n",
       "      <td>16.0</td>\n",
       "    </tr>\n",
       "    <tr>\n",
       "      <th>15</th>\n",
       "      <td>B-Girl</td>\n",
       "      <td>2009</td>\n",
       "      <td>Jesse 'Casper' Brown</td>\n",
       "      <td>actor</td>\n",
       "      <td>Battle Judge</td>\n",
       "      <td>25.0</td>\n",
       "    </tr>\n",
       "    <tr>\n",
       "      <th>16</th>\n",
       "      <td>Battle of the Year</td>\n",
       "      <td>2013</td>\n",
       "      <td>Jesse 'Casper' Brown</td>\n",
       "      <td>actor</td>\n",
       "      <td>Rebel</td>\n",
       "      <td>9.0</td>\n",
       "    </tr>\n",
       "    <tr>\n",
       "      <th>17</th>\n",
       "      <td>Kickin' It Old Skool</td>\n",
       "      <td>2007</td>\n",
       "      <td>Jesse 'Casper' Brown</td>\n",
       "      <td>actor</td>\n",
       "      <td>Cole</td>\n",
       "      <td>10.0</td>\n",
       "    </tr>\n",
       "    <tr>\n",
       "      <th>18</th>\n",
       "      <td>Step Up All In</td>\n",
       "      <td>2014</td>\n",
       "      <td>Jesse 'Casper' Brown</td>\n",
       "      <td>actor</td>\n",
       "      <td>Grim Knight Dancer</td>\n",
       "      <td>61.0</td>\n",
       "    </tr>\n",
       "    <tr>\n",
       "      <th>19</th>\n",
       "      <td>The LXD: The Secrets of the Ra</td>\n",
       "      <td>2013</td>\n",
       "      <td>Jesse 'Casper' Brown</td>\n",
       "      <td>actor</td>\n",
       "      <td>Fangz</td>\n",
       "      <td>NaN</td>\n",
       "    </tr>\n",
       "    <tr>\n",
       "      <th>20</th>\n",
       "      <td>Todo x Sara</td>\n",
       "      <td>2014</td>\n",
       "      <td>Gil 'Colibri'Viera</td>\n",
       "      <td>actor</td>\n",
       "      <td>Llavero</td>\n",
       "      <td>NaN</td>\n",
       "    </tr>\n",
       "    <tr>\n",
       "      <th>21</th>\n",
       "      <td>Barrio Gangsters</td>\n",
       "      <td>2009</td>\n",
       "      <td>Marcelino 'Dibujo' Torres</td>\n",
       "      <td>actor</td>\n",
       "      <td>Dibujo</td>\n",
       "      <td>NaN</td>\n",
       "    </tr>\n",
       "    <tr>\n",
       "      <th>22</th>\n",
       "      <td>Cornmeal, Gunpowder, Ham Hocks and Guitar Strings</td>\n",
       "      <td>2015</td>\n",
       "      <td>Donnie 'Dicky' Clemson</td>\n",
       "      <td>actor</td>\n",
       "      <td>Jeb Kinney</td>\n",
       "      <td>NaN</td>\n",
       "    </tr>\n",
       "    <tr>\n",
       "      <th>23</th>\n",
       "      <td>The LXD: The Secrets of the Ra</td>\n",
       "      <td>2013</td>\n",
       "      <td>Dondraico 'Draico' Johnson</td>\n",
       "      <td>actor</td>\n",
       "      <td>Umbra</td>\n",
       "      <td>NaN</td>\n",
       "    </tr>\n",
       "    <tr>\n",
       "      <th>24</th>\n",
       "      <td>Pelotazo nacional</td>\n",
       "      <td>1993</td>\n",
       "      <td>F?lix 'El Gato'</td>\n",
       "      <td>actor</td>\n",
       "      <td>Rebolledo</td>\n",
       "      <td>12.0</td>\n",
       "    </tr>\n",
       "    <tr>\n",
       "      <th>25</th>\n",
       "      <td>Los tarantos</td>\n",
       "      <td>1963</td>\n",
       "      <td>'El Guisa'</td>\n",
       "      <td>actor</td>\n",
       "      <td>Bailaor</td>\n",
       "      <td>25.0</td>\n",
       "    </tr>\n",
       "    <tr>\n",
       "      <th>26</th>\n",
       "      <td>De la calle</td>\n",
       "      <td>2001</td>\n",
       "      <td>Luis 'El Plojo'</td>\n",
       "      <td>actor</td>\n",
       "      <td>Froil?n plaza del estudiante</td>\n",
       "      <td>80.0</td>\n",
       "    </tr>\n",
       "    <tr>\n",
       "      <th>27</th>\n",
       "      <td>Los tarantos</td>\n",
       "      <td>1963</td>\n",
       "      <td>'El Viti'</td>\n",
       "      <td>actor</td>\n",
       "      <td>Cantaor</td>\n",
       "      <td>20.0</td>\n",
       "    </tr>\n",
       "    <tr>\n",
       "      <th>28</th>\n",
       "      <td>They Want Dick Dickster</td>\n",
       "      <td>2015</td>\n",
       "      <td>Zhavier' (II) 'Fox</td>\n",
       "      <td>actor</td>\n",
       "      <td>Dr. Shrinkalotsky</td>\n",
       "      <td>25.0</td>\n",
       "    </tr>\n",
       "    <tr>\n",
       "      <th>29</th>\n",
       "      <td>Mahogany Sunrise</td>\n",
       "      <td>2014</td>\n",
       "      <td>Gilberto 'Ghetto Bird' Bahena</td>\n",
       "      <td>actor</td>\n",
       "      <td>Jesse</td>\n",
       "      <td>21.0</td>\n",
       "    </tr>\n",
       "    <tr>\n",
       "      <th>...</th>\n",
       "      <td>...</td>\n",
       "      <td>...</td>\n",
       "      <td>...</td>\n",
       "      <td>...</td>\n",
       "      <td>...</td>\n",
       "      <td>...</td>\n",
       "    </tr>\n",
       "    <tr>\n",
       "      <th>3461436</th>\n",
       "      <td>Musallat</td>\n",
       "      <td>2007</td>\n",
       "      <td>Serap ?st?n</td>\n",
       "      <td>actress</td>\n",
       "      <td>Zeynep</td>\n",
       "      <td>NaN</td>\n",
       "    </tr>\n",
       "    <tr>\n",
       "      <th>3461437</th>\n",
       "      <td>Acliga Doymak</td>\n",
       "      <td>2012</td>\n",
       "      <td>Zeyno ?st?nisik</td>\n",
       "      <td>actress</td>\n",
       "      <td>Selma</td>\n",
       "      <td>NaN</td>\n",
       "    </tr>\n",
       "    <tr>\n",
       "      <th>3461438</th>\n",
       "      <td>Askin kesisme noktasi</td>\n",
       "      <td>1990</td>\n",
       "      <td>Zuhal ?st?ntas</td>\n",
       "      <td>actress</td>\n",
       "      <td>Hira Ana</td>\n",
       "      <td>NaN</td>\n",
       "    </tr>\n",
       "    <tr>\n",
       "      <th>3461439</th>\n",
       "      <td>Dislanmis/Lekeli melek</td>\n",
       "      <td>1993</td>\n",
       "      <td>Zuhal ?st?ntas</td>\n",
       "      <td>actress</td>\n",
       "      <td>Fatma</td>\n",
       "      <td>NaN</td>\n",
       "    </tr>\n",
       "    <tr>\n",
       "      <th>3461440</th>\n",
       "      <td>Bhaag Milkha Bhaag</td>\n",
       "      <td>2013</td>\n",
       "      <td>Pr?ity ?upala</td>\n",
       "      <td>actress</td>\n",
       "      <td>Journalist (2013)</td>\n",
       "      <td>NaN</td>\n",
       "    </tr>\n",
       "    <tr>\n",
       "      <th>3461441</th>\n",
       "      <td>From Sydney with Love</td>\n",
       "      <td>2012</td>\n",
       "      <td>Pr?ity ?upala</td>\n",
       "      <td>actress</td>\n",
       "      <td>Shruti (2012)</td>\n",
       "      <td>NaN</td>\n",
       "    </tr>\n",
       "    <tr>\n",
       "      <th>3461442</th>\n",
       "      <td>Orange</td>\n",
       "      <td>2010</td>\n",
       "      <td>Pr?ity ?upala</td>\n",
       "      <td>actress</td>\n",
       "      <td>Usha (2010)</td>\n",
       "      <td>NaN</td>\n",
       "    </tr>\n",
       "    <tr>\n",
       "      <th>3461443</th>\n",
       "      <td>Sex and the City 2</td>\n",
       "      <td>2010</td>\n",
       "      <td>Pr?ity ?upala</td>\n",
       "      <td>actress</td>\n",
       "      <td>Shopper (2010)</td>\n",
       "      <td>NaN</td>\n",
       "    </tr>\n",
       "    <tr>\n",
       "      <th>3461444</th>\n",
       "      <td>Singh Is Kinng</td>\n",
       "      <td>2008</td>\n",
       "      <td>Pr?ity ?upala</td>\n",
       "      <td>actress</td>\n",
       "      <td>Puja (2008)</td>\n",
       "      <td>NaN</td>\n",
       "    </tr>\n",
       "    <tr>\n",
       "      <th>3461445</th>\n",
       "      <td>Thalaivaa</td>\n",
       "      <td>2013</td>\n",
       "      <td>Pr?ity ?upala</td>\n",
       "      <td>actress</td>\n",
       "      <td>Pooja (2013)</td>\n",
       "      <td>NaN</td>\n",
       "    </tr>\n",
       "    <tr>\n",
       "      <th>3461446</th>\n",
       "      <td>The Sky Has Fallen</td>\n",
       "      <td>2009</td>\n",
       "      <td>Pr?ity ?upala</td>\n",
       "      <td>actress</td>\n",
       "      <td>Skylar</td>\n",
       "      <td>NaN</td>\n",
       "    </tr>\n",
       "    <tr>\n",
       "      <th>3461447</th>\n",
       "      <td>Virsa</td>\n",
       "      <td>2010</td>\n",
       "      <td>Pr?ity ?upala</td>\n",
       "      <td>actress</td>\n",
       "      <td>Prema</td>\n",
       "      <td>NaN</td>\n",
       "    </tr>\n",
       "    <tr>\n",
       "      <th>3461448</th>\n",
       "      <td>Gise Memuru</td>\n",
       "      <td>2010</td>\n",
       "      <td>Sevin? ??ok</td>\n",
       "      <td>actress</td>\n",
       "      <td>Afar Shouting Woman</td>\n",
       "      <td>18.0</td>\n",
       "    </tr>\n",
       "    <tr>\n",
       "      <th>3461449</th>\n",
       "      <td>Issiz Adam</td>\n",
       "      <td>2008</td>\n",
       "      <td>Sevin? ??ok</td>\n",
       "      <td>actress</td>\n",
       "      <td>Ece</td>\n",
       "      <td>NaN</td>\n",
       "    </tr>\n",
       "    <tr>\n",
       "      <th>3461450</th>\n",
       "      <td>Niceland (Population. 1.000.002)</td>\n",
       "      <td>2004</td>\n",
       "      <td>Hugr?n ?orfinnsd?ttir</td>\n",
       "      <td>actress</td>\n",
       "      <td>Diana</td>\n",
       "      <td>10.0</td>\n",
       "    </tr>\n",
       "    <tr>\n",
       "      <th>3461451</th>\n",
       "      <td>Eldfjall</td>\n",
       "      <td>2011</td>\n",
       "      <td>Katla M. ?orgeirsd?ttir</td>\n",
       "      <td>actress</td>\n",
       "      <td>Home Nurse</td>\n",
       "      <td>NaN</td>\n",
       "    </tr>\n",
       "    <tr>\n",
       "      <th>3461452</th>\n",
       "      <td>The Oath</td>\n",
       "      <td>2016</td>\n",
       "      <td>Mar?a Heba ?orkelsd?ttir</td>\n",
       "      <td>actress</td>\n",
       "      <td>M??ir</td>\n",
       "      <td>NaN</td>\n",
       "    </tr>\n",
       "    <tr>\n",
       "      <th>3461453</th>\n",
       "      <td>Nei er ekkert svar</td>\n",
       "      <td>1995</td>\n",
       "      <td>Gu?r?n B. ?orsteinsd?ttir</td>\n",
       "      <td>actress</td>\n",
       "      <td>Part?gestir</td>\n",
       "      <td>46.0</td>\n",
       "    </tr>\n",
       "    <tr>\n",
       "      <th>3461454</th>\n",
       "      <td>Agnes</td>\n",
       "      <td>1995</td>\n",
       "      <td>Ingibj?rg ?orsteinsd?ttir</td>\n",
       "      <td>actress</td>\n",
       "      <td>Kona</td>\n",
       "      <td>25.0</td>\n",
       "    </tr>\n",
       "    <tr>\n",
       "      <th>3461455</th>\n",
       "      <td>Beowulf &amp; Grendel</td>\n",
       "      <td>2005</td>\n",
       "      <td>Steinunn ?l?na ?orsteinsd?ttir</td>\n",
       "      <td>actress</td>\n",
       "      <td>Wealtheow</td>\n",
       "      <td>15.0</td>\n",
       "    </tr>\n",
       "    <tr>\n",
       "      <th>3461456</th>\n",
       "      <td>Dansinn</td>\n",
       "      <td>1998</td>\n",
       "      <td>Lilja Gu?r?n ?orvaldsd?ttir</td>\n",
       "      <td>actress</td>\n",
       "      <td>S?slumannafr?in</td>\n",
       "      <td>13.0</td>\n",
       "    </tr>\n",
       "    <tr>\n",
       "      <th>3461457</th>\n",
       "      <td>Foreldrar</td>\n",
       "      <td>2007</td>\n",
       "      <td>Lilja Gu?r?n ?orvaldsd?ttir</td>\n",
       "      <td>actress</td>\n",
       "      <td>Katrin Eldri</td>\n",
       "      <td>NaN</td>\n",
       "    </tr>\n",
       "    <tr>\n",
       "      <th>3461458</th>\n",
       "      <td>Rokland</td>\n",
       "      <td>2011</td>\n",
       "      <td>Lilja Gu?r?n ?orvaldsd?ttir</td>\n",
       "      <td>actress</td>\n",
       "      <td>A?albj?rg - Dagga's Mother</td>\n",
       "      <td>NaN</td>\n",
       "    </tr>\n",
       "    <tr>\n",
       "      <th>3461459</th>\n",
       "      <td>XL</td>\n",
       "      <td>2013</td>\n",
       "      <td>Lilja Gu?r?n ?orvaldsd?ttir</td>\n",
       "      <td>actress</td>\n",
       "      <td>Tengdamamma</td>\n",
       "      <td>NaN</td>\n",
       "    </tr>\n",
       "    <tr>\n",
       "      <th>3461460</th>\n",
       "      <td>Niceland (Population. 1.000.002)</td>\n",
       "      <td>2004</td>\n",
       "      <td>Steinunn ?orvaldsd?ttir</td>\n",
       "      <td>actress</td>\n",
       "      <td>Factory Worker</td>\n",
       "      <td>21.0</td>\n",
       "    </tr>\n",
       "    <tr>\n",
       "      <th>3461461</th>\n",
       "      <td>Stuttur Frakki</td>\n",
       "      <td>1993</td>\n",
       "      <td>Sveinbj?rg ??rhallsd?ttir</td>\n",
       "      <td>actress</td>\n",
       "      <td>Flugfreyja</td>\n",
       "      <td>24.0</td>\n",
       "    </tr>\n",
       "    <tr>\n",
       "      <th>3461462</th>\n",
       "      <td>Foxtrot</td>\n",
       "      <td>1988</td>\n",
       "      <td>Lilja ??risd?ttir</td>\n",
       "      <td>actress</td>\n",
       "      <td>D?ra</td>\n",
       "      <td>24.0</td>\n",
       "    </tr>\n",
       "    <tr>\n",
       "      <th>3461463</th>\n",
       "      <td>Niceland (Population. 1.000.002)</td>\n",
       "      <td>2004</td>\n",
       "      <td>Sigr??ur J?na ??risd?ttir</td>\n",
       "      <td>actress</td>\n",
       "      <td>Woman in Bus</td>\n",
       "      <td>26.0</td>\n",
       "    </tr>\n",
       "    <tr>\n",
       "      <th>3461464</th>\n",
       "      <td>U.S.S.S.S...</td>\n",
       "      <td>2003</td>\n",
       "      <td>Krist?n Andrea ??r?ard?ttir</td>\n",
       "      <td>actress</td>\n",
       "      <td>Afgr.dama ? bens?nst??</td>\n",
       "      <td>17.0</td>\n",
       "    </tr>\n",
       "    <tr>\n",
       "      <th>3461465</th>\n",
       "      <td>Bye Bye Blue Bird</td>\n",
       "      <td>1999</td>\n",
       "      <td>Rosa ? R?gvu</td>\n",
       "      <td>actress</td>\n",
       "      <td>Pensionatv?rtinde</td>\n",
       "      <td>NaN</td>\n",
       "    </tr>\n",
       "  </tbody>\n",
       "</table>\n",
       "<p>3461466 rows × 6 columns</p>\n",
       "</div>"
      ],
      "text/plain": [
       "                                                     title  year  \\\n",
       "0                                          Suuri illusioni  1985   \n",
       "1                           Gangsta Rap: The Glockumentary  2007   \n",
       "2                                        Menace II Society  1993   \n",
       "3                        Porndogs: The Adventures of Sadie  2009   \n",
       "4                                       Stop Pepper Palmer  2014   \n",
       "5                                                  Townbiz  2010   \n",
       "6                                           For Thy Love 2  2009   \n",
       "7                                             Desire (III)  2014   \n",
       "8                                  When the Man Went South  2014   \n",
       "9                                  Little Angel (Angelita)  2015   \n",
       "10                                              Mixing Nia  1998   \n",
       "11                                        The Replacements  2000   \n",
       "12                                    All Out Dysfunktion!  2016   \n",
       "13                                         My Song for You  2010   \n",
       "14                                         My Song for You  2010   \n",
       "15                                                  B-Girl  2009   \n",
       "16                                      Battle of the Year  2013   \n",
       "17                                    Kickin' It Old Skool  2007   \n",
       "18                                          Step Up All In  2014   \n",
       "19                          The LXD: The Secrets of the Ra  2013   \n",
       "20                                             Todo x Sara  2014   \n",
       "21                                        Barrio Gangsters  2009   \n",
       "22       Cornmeal, Gunpowder, Ham Hocks and Guitar Strings  2015   \n",
       "23                          The LXD: The Secrets of the Ra  2013   \n",
       "24                                       Pelotazo nacional  1993   \n",
       "25                                            Los tarantos  1963   \n",
       "26                                             De la calle  2001   \n",
       "27                                            Los tarantos  1963   \n",
       "28                                 They Want Dick Dickster  2015   \n",
       "29                                        Mahogany Sunrise  2014   \n",
       "...                                                    ...   ...   \n",
       "3461436                                           Musallat  2007   \n",
       "3461437                                      Acliga Doymak  2012   \n",
       "3461438                              Askin kesisme noktasi  1990   \n",
       "3461439                             Dislanmis/Lekeli melek  1993   \n",
       "3461440                                 Bhaag Milkha Bhaag  2013   \n",
       "3461441                              From Sydney with Love  2012   \n",
       "3461442                                             Orange  2010   \n",
       "3461443                                 Sex and the City 2  2010   \n",
       "3461444                                     Singh Is Kinng  2008   \n",
       "3461445                                          Thalaivaa  2013   \n",
       "3461446                                 The Sky Has Fallen  2009   \n",
       "3461447                                              Virsa  2010   \n",
       "3461448                                        Gise Memuru  2010   \n",
       "3461449                                         Issiz Adam  2008   \n",
       "3461450                   Niceland (Population. 1.000.002)  2004   \n",
       "3461451                                           Eldfjall  2011   \n",
       "3461452                                           The Oath  2016   \n",
       "3461453                                 Nei er ekkert svar  1995   \n",
       "3461454                                              Agnes  1995   \n",
       "3461455                                  Beowulf & Grendel  2005   \n",
       "3461456                                            Dansinn  1998   \n",
       "3461457                                          Foreldrar  2007   \n",
       "3461458                                            Rokland  2011   \n",
       "3461459                                                 XL  2013   \n",
       "3461460                   Niceland (Population. 1.000.002)  2004   \n",
       "3461461                                     Stuttur Frakki  1993   \n",
       "3461462                                            Foxtrot  1988   \n",
       "3461463                   Niceland (Population. 1.000.002)  2004   \n",
       "3461464                                       U.S.S.S.S...  2003   \n",
       "3461465                                  Bye Bye Blue Bird  1999   \n",
       "\n",
       "                                   name     type  \\\n",
       "0                                Homo $    actor   \n",
       "1                             Too $hort    actor   \n",
       "2                             Too $hort    actor   \n",
       "3                             Too $hort    actor   \n",
       "4                             Too $hort    actor   \n",
       "5                             Too $hort    actor   \n",
       "6                          Bee Moe $lim    actor   \n",
       "7                      Syaiful 'Ariffin    actor   \n",
       "8                    Taipaleti 'Atu'ake    actor   \n",
       "9            Michael 'babeepower' Viera    actor   \n",
       "10           Michael 'babeepower' Viera    actor   \n",
       "11                    Steven 'Bear'Boyd    actor   \n",
       "12                Kirlew 'bliss' Vilbon    actor   \n",
       "13               George 'Bootsy' Thomas    actor   \n",
       "14               George 'Bootsy' Thomas    actor   \n",
       "15                 Jesse 'Casper' Brown    actor   \n",
       "16                 Jesse 'Casper' Brown    actor   \n",
       "17                 Jesse 'Casper' Brown    actor   \n",
       "18                 Jesse 'Casper' Brown    actor   \n",
       "19                 Jesse 'Casper' Brown    actor   \n",
       "20                   Gil 'Colibri'Viera    actor   \n",
       "21            Marcelino 'Dibujo' Torres    actor   \n",
       "22               Donnie 'Dicky' Clemson    actor   \n",
       "23           Dondraico 'Draico' Johnson    actor   \n",
       "24                      F?lix 'El Gato'    actor   \n",
       "25                           'El Guisa'    actor   \n",
       "26                      Luis 'El Plojo'    actor   \n",
       "27                            'El Viti'    actor   \n",
       "28                   Zhavier' (II) 'Fox    actor   \n",
       "29        Gilberto 'Ghetto Bird' Bahena    actor   \n",
       "...                                 ...      ...   \n",
       "3461436                     Serap ?st?n  actress   \n",
       "3461437                 Zeyno ?st?nisik  actress   \n",
       "3461438                  Zuhal ?st?ntas  actress   \n",
       "3461439                  Zuhal ?st?ntas  actress   \n",
       "3461440                   Pr?ity ?upala  actress   \n",
       "3461441                   Pr?ity ?upala  actress   \n",
       "3461442                   Pr?ity ?upala  actress   \n",
       "3461443                   Pr?ity ?upala  actress   \n",
       "3461444                   Pr?ity ?upala  actress   \n",
       "3461445                   Pr?ity ?upala  actress   \n",
       "3461446                   Pr?ity ?upala  actress   \n",
       "3461447                   Pr?ity ?upala  actress   \n",
       "3461448                     Sevin? ??ok  actress   \n",
       "3461449                     Sevin? ??ok  actress   \n",
       "3461450           Hugr?n ?orfinnsd?ttir  actress   \n",
       "3461451         Katla M. ?orgeirsd?ttir  actress   \n",
       "3461452        Mar?a Heba ?orkelsd?ttir  actress   \n",
       "3461453       Gu?r?n B. ?orsteinsd?ttir  actress   \n",
       "3461454       Ingibj?rg ?orsteinsd?ttir  actress   \n",
       "3461455  Steinunn ?l?na ?orsteinsd?ttir  actress   \n",
       "3461456     Lilja Gu?r?n ?orvaldsd?ttir  actress   \n",
       "3461457     Lilja Gu?r?n ?orvaldsd?ttir  actress   \n",
       "3461458     Lilja Gu?r?n ?orvaldsd?ttir  actress   \n",
       "3461459     Lilja Gu?r?n ?orvaldsd?ttir  actress   \n",
       "3461460         Steinunn ?orvaldsd?ttir  actress   \n",
       "3461461       Sveinbj?rg ??rhallsd?ttir  actress   \n",
       "3461462               Lilja ??risd?ttir  actress   \n",
       "3461463       Sigr??ur J?na ??risd?ttir  actress   \n",
       "3461464     Krist?n Andrea ??r?ard?ttir  actress   \n",
       "3461465                    Rosa ? R?gvu  actress   \n",
       "\n",
       "                                       character     n  \n",
       "0                                         Guests  22.0  \n",
       "1                                        Himself   NaN  \n",
       "2                                        Lew-Loc  27.0  \n",
       "3                                          Bosco   3.0  \n",
       "4                                        Himself   NaN  \n",
       "5                                        Himself   NaN  \n",
       "6                                         Thug 1   NaN  \n",
       "7         Actor Playing Eteocles from 'Antigone'   NaN  \n",
       "8                         Two Palms - Ua'i Paame   8.0  \n",
       "9                                          Chico   9.0  \n",
       "10                                        Rapper   NaN  \n",
       "11       Defensive Tackle - Washington Sentinels   NaN  \n",
       "12                                         Bliss   NaN  \n",
       "13                             Cooley's Customer  16.0  \n",
       "14                             Celebration Guest  16.0  \n",
       "15                                  Battle Judge  25.0  \n",
       "16                                         Rebel   9.0  \n",
       "17                                          Cole  10.0  \n",
       "18                            Grim Knight Dancer  61.0  \n",
       "19                                         Fangz   NaN  \n",
       "20                                       Llavero   NaN  \n",
       "21                                        Dibujo   NaN  \n",
       "22                                    Jeb Kinney   NaN  \n",
       "23                                         Umbra   NaN  \n",
       "24                                     Rebolledo  12.0  \n",
       "25                                       Bailaor  25.0  \n",
       "26                  Froil?n plaza del estudiante  80.0  \n",
       "27                                       Cantaor  20.0  \n",
       "28                             Dr. Shrinkalotsky  25.0  \n",
       "29                                         Jesse  21.0  \n",
       "...                                          ...   ...  \n",
       "3461436                                   Zeynep   NaN  \n",
       "3461437                                    Selma   NaN  \n",
       "3461438                                 Hira Ana   NaN  \n",
       "3461439                                    Fatma   NaN  \n",
       "3461440                        Journalist (2013)   NaN  \n",
       "3461441                            Shruti (2012)   NaN  \n",
       "3461442                              Usha (2010)   NaN  \n",
       "3461443                           Shopper (2010)   NaN  \n",
       "3461444                              Puja (2008)   NaN  \n",
       "3461445                             Pooja (2013)   NaN  \n",
       "3461446                                   Skylar   NaN  \n",
       "3461447                                    Prema   NaN  \n",
       "3461448                      Afar Shouting Woman  18.0  \n",
       "3461449                                      Ece   NaN  \n",
       "3461450                                    Diana  10.0  \n",
       "3461451                               Home Nurse   NaN  \n",
       "3461452                                    M??ir   NaN  \n",
       "3461453                              Part?gestir  46.0  \n",
       "3461454                                     Kona  25.0  \n",
       "3461455                                Wealtheow  15.0  \n",
       "3461456                          S?slumannafr?in  13.0  \n",
       "3461457                             Katrin Eldri   NaN  \n",
       "3461458               A?albj?rg - Dagga's Mother   NaN  \n",
       "3461459                              Tengdamamma   NaN  \n",
       "3461460                           Factory Worker  21.0  \n",
       "3461461                               Flugfreyja  24.0  \n",
       "3461462                                     D?ra  24.0  \n",
       "3461463                             Woman in Bus  26.0  \n",
       "3461464                   Afgr.dama ? bens?nst??  17.0  \n",
       "3461465                        Pensionatv?rtinde   NaN  \n",
       "\n",
       "[3461466 rows x 6 columns]"
      ]
     },
     "execution_count": 35,
     "metadata": {},
     "output_type": "execute_result"
    }
   ],
   "source": [
    "cast"
   ]
  },
  {
   "cell_type": "code",
   "execution_count": null,
   "metadata": {
    "collapsed": true
   },
   "outputs": [],
   "source": []
  },
  {
   "cell_type": "markdown",
   "metadata": {
    "collapsed": true
   },
   "source": [
    "### How many roles in the movie \"Inception\" are NOT ranked by an \"n\" value?"
   ]
  },
  {
   "cell_type": "code",
   "execution_count": 36,
   "metadata": {
    "collapsed": true
   },
   "outputs": [],
   "source": [
    "c = cast[(cast.title==\"Inception\")]"
   ]
  },
  {
   "cell_type": "code",
   "execution_count": 37,
   "metadata": {
    "collapsed": false
   },
   "outputs": [
    {
     "data": {
      "text/plain": [
       "25"
      ]
     },
     "execution_count": 37,
     "metadata": {},
     "output_type": "execute_result"
    }
   ],
   "source": [
    "c = cast\n",
    "c\n",
    "c = c[c.title == 'Inception']\n",
    "c = c[c.n.isnull()]\n",
    "len(c)\n"
   ]
  },
  {
   "cell_type": "markdown",
   "metadata": {
    "collapsed": true
   },
   "source": [
    "### But how many roles in the movie \"Inception\" did receive an \"n\" value?"
   ]
  },
  {
   "cell_type": "code",
   "execution_count": 38,
   "metadata": {
    "collapsed": false
   },
   "outputs": [
    {
     "data": {
      "text/plain": [
       "51"
      ]
     },
     "execution_count": 38,
     "metadata": {},
     "output_type": "execute_result"
    }
   ],
   "source": [
    "c= cast\n",
    "c=c[c.title==\"Inception\"]\n",
    "c=c[c.n.notnull()]\n",
    "len(c)"
   ]
  },
  {
   "cell_type": "code",
   "execution_count": null,
   "metadata": {
    "collapsed": true
   },
   "outputs": [],
   "source": []
  },
  {
   "cell_type": "markdown",
   "metadata": {
    "collapsed": true
   },
   "source": [
    "### Display the cast of \"North by Northwest\" in their correct \"n\"-value order, ignoring roles that did not earn a numeric \"n\" value."
   ]
  },
  {
   "cell_type": "code",
   "execution_count": 39,
   "metadata": {
    "collapsed": true
   },
   "outputs": [],
   "source": [
    "len(cast)\n",
    "c= cast\n",
    "c=c[c.title==\"North by Northwest\"]\n",
    "\n",
    "\n"
   ]
  },
  {
   "cell_type": "code",
   "execution_count": 40,
   "metadata": {
    "collapsed": false
   },
   "outputs": [
    {
     "data": {
      "text/plain": [
       "111"
      ]
     },
     "execution_count": 40,
     "metadata": {},
     "output_type": "execute_result"
    }
   ],
   "source": [
    "len(c)"
   ]
  },
  {
   "cell_type": "markdown",
   "metadata": {
    "collapsed": true
   },
   "source": [
    "### Display the entire cast, in \"n\"-order, of the 1972 film \"Sleuth\"."
   ]
  },
  {
   "cell_type": "code",
   "execution_count": 51,
   "metadata": {
    "collapsed": false
   },
   "outputs": [
    {
     "data": {
      "text/html": [
       "<div>\n",
       "<table border=\"1\" class=\"dataframe\">\n",
       "  <thead>\n",
       "    <tr style=\"text-align: right;\">\n",
       "      <th></th>\n",
       "      <th>title</th>\n",
       "      <th>year</th>\n",
       "      <th>name</th>\n",
       "      <th>type</th>\n",
       "      <th>character</th>\n",
       "      <th>n</th>\n",
       "    </tr>\n",
       "  </thead>\n",
       "  <tbody>\n",
       "    <tr>\n",
       "      <th>1579110</th>\n",
       "      <td>Sleuth</td>\n",
       "      <td>1972</td>\n",
       "      <td>Laurence Olivier</td>\n",
       "      <td>actor</td>\n",
       "      <td>Andrew Wyke</td>\n",
       "      <td>1.0</td>\n",
       "    </tr>\n",
       "    <tr>\n",
       "      <th>301754</th>\n",
       "      <td>Sleuth</td>\n",
       "      <td>1972</td>\n",
       "      <td>Michael Caine</td>\n",
       "      <td>actor</td>\n",
       "      <td>Milo Tindle</td>\n",
       "      <td>2.0</td>\n",
       "    </tr>\n",
       "    <tr>\n",
       "      <th>345575</th>\n",
       "      <td>Sleuth</td>\n",
       "      <td>1972</td>\n",
       "      <td>Alec Cawthorne</td>\n",
       "      <td>actor</td>\n",
       "      <td>Inspector Doppler</td>\n",
       "      <td>3.0</td>\n",
       "    </tr>\n",
       "    <tr>\n",
       "      <th>1356514</th>\n",
       "      <td>Sleuth</td>\n",
       "      <td>1972</td>\n",
       "      <td>John (II) Matthews</td>\n",
       "      <td>actor</td>\n",
       "      <td>Detective Sergeant Tarrant</td>\n",
       "      <td>4.0</td>\n",
       "    </tr>\n",
       "    <tr>\n",
       "      <th>2513707</th>\n",
       "      <td>Sleuth</td>\n",
       "      <td>1972</td>\n",
       "      <td>Eve (III) Channing</td>\n",
       "      <td>actress</td>\n",
       "      <td>Marguerite Wyke</td>\n",
       "      <td>5.0</td>\n",
       "    </tr>\n",
       "    <tr>\n",
       "      <th>1341168</th>\n",
       "      <td>Sleuth</td>\n",
       "      <td>1972</td>\n",
       "      <td>Teddy Martin</td>\n",
       "      <td>actor</td>\n",
       "      <td>Police Constable Higgs</td>\n",
       "      <td>6.0</td>\n",
       "    </tr>\n",
       "  </tbody>\n",
       "</table>\n",
       "</div>"
      ],
      "text/plain": [
       "          title  year                name     type  \\\n",
       "1579110  Sleuth  1972    Laurence Olivier    actor   \n",
       "301754   Sleuth  1972       Michael Caine    actor   \n",
       "345575   Sleuth  1972      Alec Cawthorne    actor   \n",
       "1356514  Sleuth  1972  John (II) Matthews    actor   \n",
       "2513707  Sleuth  1972  Eve (III) Channing  actress   \n",
       "1341168  Sleuth  1972        Teddy Martin    actor   \n",
       "\n",
       "                          character    n  \n",
       "1579110                 Andrew Wyke  1.0  \n",
       "301754                  Milo Tindle  2.0  \n",
       "345575            Inspector Doppler  3.0  \n",
       "1356514  Detective Sergeant Tarrant  4.0  \n",
       "2513707             Marguerite Wyke  5.0  \n",
       "1341168      Police Constable Higgs  6.0  "
      ]
     },
     "execution_count": 51,
     "metadata": {},
     "output_type": "execute_result"
    }
   ],
   "source": [
    "c = cast\n",
    "c = c[(c.title == 'Sleuth') & (c.year == 1972)]\n",
    "c = c.sort_values('n')\n",
    "c"
   ]
  },
  {
   "cell_type": "code",
   "execution_count": null,
   "metadata": {
    "collapsed": false
   },
   "outputs": [],
   "source": []
  },
  {
   "cell_type": "markdown",
   "metadata": {
    "collapsed": true
   },
   "source": [
    "### Now display the entire cast, in \"n\"-order, of the 2007 version of \"Sleuth\"."
   ]
  },
  {
   "cell_type": "code",
   "execution_count": 47,
   "metadata": {
    "collapsed": false
   },
   "outputs": [
    {
     "data": {
      "text/html": [
       "<div>\n",
       "<table border=\"1\" class=\"dataframe\">\n",
       "  <thead>\n",
       "    <tr style=\"text-align: right;\">\n",
       "      <th></th>\n",
       "      <th>title</th>\n",
       "      <th>year</th>\n",
       "      <th>name</th>\n",
       "      <th>type</th>\n",
       "      <th>character</th>\n",
       "      <th>n</th>\n",
       "    </tr>\n",
       "  </thead>\n",
       "  <tbody>\n",
       "    <tr>\n",
       "      <th>301755</th>\n",
       "      <td>Sleuth</td>\n",
       "      <td>2007</td>\n",
       "      <td>Michael Caine</td>\n",
       "      <td>actor</td>\n",
       "      <td>Andrew</td>\n",
       "      <td>1.0</td>\n",
       "    </tr>\n",
       "    <tr>\n",
       "      <th>1197131</th>\n",
       "      <td>Sleuth</td>\n",
       "      <td>2007</td>\n",
       "      <td>Jude Law</td>\n",
       "      <td>actor</td>\n",
       "      <td>Milo</td>\n",
       "      <td>2.0</td>\n",
       "    </tr>\n",
       "    <tr>\n",
       "      <th>1671929</th>\n",
       "      <td>Sleuth</td>\n",
       "      <td>2007</td>\n",
       "      <td>Harold Pinter</td>\n",
       "      <td>actor</td>\n",
       "      <td>Man on T.V.</td>\n",
       "      <td>3.0</td>\n",
       "    </tr>\n",
       "    <tr>\n",
       "      <th>239717</th>\n",
       "      <td>Sleuth</td>\n",
       "      <td>2007</td>\n",
       "      <td>Kenneth Branagh</td>\n",
       "      <td>actor</td>\n",
       "      <td>Other Man on T.V.</td>\n",
       "      <td>NaN</td>\n",
       "    </tr>\n",
       "    <tr>\n",
       "      <th>345576</th>\n",
       "      <td>Sleuth</td>\n",
       "      <td>2007</td>\n",
       "      <td>Alec (II) Cawthorne</td>\n",
       "      <td>actor</td>\n",
       "      <td>Inspector Doppler</td>\n",
       "      <td>NaN</td>\n",
       "    </tr>\n",
       "    <tr>\n",
       "      <th>2513706</th>\n",
       "      <td>Sleuth</td>\n",
       "      <td>2007</td>\n",
       "      <td>Eve (II) Channing</td>\n",
       "      <td>actress</td>\n",
       "      <td>Marguerite Wyke</td>\n",
       "      <td>NaN</td>\n",
       "    </tr>\n",
       "    <tr>\n",
       "      <th>3091269</th>\n",
       "      <td>Sleuth</td>\n",
       "      <td>2007</td>\n",
       "      <td>Carmel O'Sullivan</td>\n",
       "      <td>actress</td>\n",
       "      <td>Maggie</td>\n",
       "      <td>NaN</td>\n",
       "    </tr>\n",
       "  </tbody>\n",
       "</table>\n",
       "</div>"
      ],
      "text/plain": [
       "          title  year                 name     type          character    n\n",
       "301755   Sleuth  2007        Michael Caine    actor             Andrew  1.0\n",
       "1197131  Sleuth  2007             Jude Law    actor               Milo  2.0\n",
       "1671929  Sleuth  2007        Harold Pinter    actor        Man on T.V.  3.0\n",
       "239717   Sleuth  2007      Kenneth Branagh    actor  Other Man on T.V.  NaN\n",
       "345576   Sleuth  2007  Alec (II) Cawthorne    actor  Inspector Doppler  NaN\n",
       "2513706  Sleuth  2007    Eve (II) Channing  actress    Marguerite Wyke  NaN\n",
       "3091269  Sleuth  2007    Carmel O'Sullivan  actress             Maggie  NaN"
      ]
     },
     "execution_count": 47,
     "metadata": {},
     "output_type": "execute_result"
    }
   ],
   "source": [
    "c = cast\n",
    "c = c[c.title == 'Sleuth']\n",
    "c = c[c.year == 2007]\n",
    "c = c.sort_values('n')\n",
    "c"
   ]
  },
  {
   "cell_type": "code",
   "execution_count": null,
   "metadata": {
    "collapsed": true
   },
   "outputs": [],
   "source": []
  },
  {
   "cell_type": "markdown",
   "metadata": {
    "collapsed": true
   },
   "source": [
    "### How many roles were credited in the silent 1921 version of Hamlet?"
   ]
  },
  {
   "cell_type": "code",
   "execution_count": 52,
   "metadata": {
    "collapsed": false
   },
   "outputs": [
    {
     "data": {
      "text/plain": [
       "9"
      ]
     },
     "execution_count": 52,
     "metadata": {},
     "output_type": "execute_result"
    }
   ],
   "source": [
    "cdf = cast\n",
    "cdf = cdf[cdf.title == 'Hamlet']\n",
    "cdf = cdf[cdf.year == 1921]\n",
    "len(cdf)"
   ]
  },
  {
   "cell_type": "code",
   "execution_count": null,
   "metadata": {
    "collapsed": true
   },
   "outputs": [],
   "source": []
  },
  {
   "cell_type": "markdown",
   "metadata": {
    "collapsed": true
   },
   "source": [
    "### How many roles were credited in Branagh’s 1996 Hamlet?"
   ]
  },
  {
   "cell_type": "code",
   "execution_count": 54,
   "metadata": {
    "collapsed": false
   },
   "outputs": [
    {
     "ename": "SyntaxError",
     "evalue": "invalid syntax (<ipython-input-54-9f5c4f58ffdf>, line 2)",
     "output_type": "error",
     "traceback": [
      "\u001b[1;36m  File \u001b[1;32m\"<ipython-input-54-9f5c4f58ffdf>\"\u001b[1;36m, line \u001b[1;32m2\u001b[0m\n\u001b[1;33m    c = c[c.title.str.contains = 'Branagh' ]\u001b[0m\n\u001b[1;37m                               ^\u001b[0m\n\u001b[1;31mSyntaxError\u001b[0m\u001b[1;31m:\u001b[0m invalid syntax\n"
     ]
    }
   ],
   "source": [
    "c = cast\n",
    "c = c[c.title.str.contains.\n",
    "c"
   ]
  },
  {
   "cell_type": "code",
   "execution_count": null,
   "metadata": {
    "collapsed": true
   },
   "outputs": [],
   "source": []
  },
  {
   "cell_type": "markdown",
   "metadata": {
    "collapsed": true
   },
   "source": [
    "### How many \"Hamlet\" roles have been listed in all film credits through history?"
   ]
  },
  {
   "cell_type": "code",
   "execution_count": 60,
   "metadata": {
    "collapsed": false
   },
   "outputs": [
    {
     "data": {
      "text/plain": [
       "87"
      ]
     },
     "execution_count": 60,
     "metadata": {},
     "output_type": "execute_result"
    }
   ],
   "source": [
    "c = cast\n",
    "c = c[c.character == \"Hamlet\"]\n",
    "#c\n",
    "len(c)"
   ]
  },
  {
   "cell_type": "code",
   "execution_count": null,
   "metadata": {
    "collapsed": true
   },
   "outputs": [],
   "source": []
  },
  {
   "cell_type": "markdown",
   "metadata": {
    "collapsed": true
   },
   "source": [
    "### How many people have played an \"Ophelia\"?"
   ]
  },
  {
   "cell_type": "code",
   "execution_count": 61,
   "metadata": {
    "collapsed": false
   },
   "outputs": [
    {
     "data": {
      "text/plain": [
       "102"
      ]
     },
     "execution_count": 61,
     "metadata": {},
     "output_type": "execute_result"
    }
   ],
   "source": [
    "c = cast\n",
    "c = c[c.character == \"Ophelia\"]\n",
    "#c\n",
    "len(c)"
   ]
  },
  {
   "cell_type": "code",
   "execution_count": null,
   "metadata": {
    "collapsed": true
   },
   "outputs": [],
   "source": []
  },
  {
   "cell_type": "markdown",
   "metadata": {
    "collapsed": true
   },
   "source": [
    "### How many people have played a role called \"The Dude\"?"
   ]
  },
  {
   "cell_type": "code",
   "execution_count": 62,
   "metadata": {
    "collapsed": false
   },
   "outputs": [
    {
     "data": {
      "text/plain": [
       "17"
      ]
     },
     "execution_count": 62,
     "metadata": {},
     "output_type": "execute_result"
    }
   ],
   "source": [
    "c = cast\n",
    "c = c[c.character == \"The Dude\"]\n",
    "#c\n",
    "len(c)"
   ]
  },
  {
   "cell_type": "code",
   "execution_count": null,
   "metadata": {
    "collapsed": true
   },
   "outputs": [],
   "source": []
  },
  {
   "cell_type": "markdown",
   "metadata": {
    "collapsed": true
   },
   "source": [
    "### How many people have played a role called \"The Stranger\"?"
   ]
  },
  {
   "cell_type": "code",
   "execution_count": 63,
   "metadata": {
    "collapsed": false
   },
   "outputs": [
    {
     "data": {
      "text/plain": [
       "203"
      ]
     },
     "execution_count": 63,
     "metadata": {},
     "output_type": "execute_result"
    }
   ],
   "source": [
    "c = cast\n",
    "c = c[c.character == \"The Stranger\"]\n",
    "#c\n",
    "len(c)"
   ]
  },
  {
   "cell_type": "code",
   "execution_count": null,
   "metadata": {
    "collapsed": true
   },
   "outputs": [],
   "source": []
  },
  {
   "cell_type": "markdown",
   "metadata": {
    "collapsed": true
   },
   "source": [
    "### How many roles has Sidney Poitier played throughout his career?"
   ]
  },
  {
   "cell_type": "code",
   "execution_count": 64,
   "metadata": {
    "collapsed": false
   },
   "outputs": [
    {
     "data": {
      "text/plain": [
       "43"
      ]
     },
     "execution_count": 64,
     "metadata": {},
     "output_type": "execute_result"
    }
   ],
   "source": [
    "c = cast\n",
    "c = c[c.name == \"Sidney Poitier\"]\n",
    "#c\n",
    "len(c)"
   ]
  },
  {
   "cell_type": "code",
   "execution_count": null,
   "metadata": {
    "collapsed": true
   },
   "outputs": [],
   "source": []
  },
  {
   "cell_type": "markdown",
   "metadata": {
    "collapsed": true
   },
   "source": [
    "### How many roles has Judi Dench played?"
   ]
  },
  {
   "cell_type": "code",
   "execution_count": 65,
   "metadata": {
    "collapsed": false
   },
   "outputs": [
    {
     "data": {
      "text/plain": [
       "54"
      ]
     },
     "execution_count": 65,
     "metadata": {},
     "output_type": "execute_result"
    }
   ],
   "source": [
    "c = cast\n",
    "c = c[c.name == \"Judi Dench\"]\n",
    "#c\n",
    "len(c)"
   ]
  },
  {
   "cell_type": "code",
   "execution_count": null,
   "metadata": {
    "collapsed": true
   },
   "outputs": [],
   "source": []
  },
  {
   "cell_type": "markdown",
   "metadata": {
    "collapsed": true
   },
   "source": [
    "### List the supporting roles (having n=2) played by Cary Grant in the 1940s, in order by year."
   ]
  },
  {
   "cell_type": "code",
   "execution_count": 68,
   "metadata": {
    "collapsed": false
   },
   "outputs": [
    {
     "data": {
      "text/plain": [
       "2"
      ]
     },
     "execution_count": 68,
     "metadata": {},
     "output_type": "execute_result"
    }
   ],
   "source": [
    "c = cast\n",
    "c = c[c.name == \"Cary Grant\"]\n",
    "c= c[c.year //10 == 194]\n",
    "c= c[c.n ==2]\n",
    "c= c.sort_values('year')\n",
    "#c\n",
    "len(c)"
   ]
  },
  {
   "cell_type": "code",
   "execution_count": null,
   "metadata": {
    "collapsed": true
   },
   "outputs": [],
   "source": []
  },
  {
   "cell_type": "markdown",
   "metadata": {
    "collapsed": true
   },
   "source": [
    "### List the leading roles that Cary Grant played in the 1940s in order by year."
   ]
  },
  {
   "cell_type": "code",
   "execution_count": 70,
   "metadata": {
    "collapsed": false
   },
   "outputs": [
    {
     "data": {
      "text/plain": [
       "19"
      ]
     },
     "execution_count": 70,
     "metadata": {},
     "output_type": "execute_result"
    }
   ],
   "source": [
    "c = cast\n",
    "c = c[c.name == \"Cary Grant\"]\n",
    "c= c[c.year //10 == 194]\n",
    "c= c[c.n ==1]\n",
    "c= c.sort_values('year')\n",
    "#c\n",
    "len(c)"
   ]
  },
  {
   "cell_type": "code",
   "execution_count": null,
   "metadata": {
    "collapsed": true
   },
   "outputs": [],
   "source": []
  },
  {
   "cell_type": "markdown",
   "metadata": {
    "collapsed": true
   },
   "source": [
    "### How many roles were available for actors in the 1950s?"
   ]
  },
  {
   "cell_type": "code",
   "execution_count": 76,
   "metadata": {
    "collapsed": false
   },
   "outputs": [
    {
     "data": {
      "text/html": [
       "<div>\n",
       "<table border=\"1\" class=\"dataframe\">\n",
       "  <thead>\n",
       "    <tr style=\"text-align: right;\">\n",
       "      <th></th>\n",
       "      <th>title</th>\n",
       "      <th>year</th>\n",
       "      <th>name</th>\n",
       "      <th>type</th>\n",
       "      <th>character</th>\n",
       "      <th>n</th>\n",
       "    </tr>\n",
       "  </thead>\n",
       "  <tbody>\n",
       "    <tr>\n",
       "      <th>971522</th>\n",
       "      <td>The Capture</td>\n",
       "      <td>1950</td>\n",
       "      <td>Jimmy Hunt</td>\n",
       "      <td>actor</td>\n",
       "      <td>Mike</td>\n",
       "      <td>5.0</td>\n",
       "    </tr>\n",
       "    <tr>\n",
       "      <th>346132</th>\n",
       "      <td>La casa chica</td>\n",
       "      <td>1950</td>\n",
       "      <td>Roberto Ca?edo</td>\n",
       "      <td>actor</td>\n",
       "      <td>Dr. Fernando Mendoza</td>\n",
       "      <td>2.0</td>\n",
       "    </tr>\n",
       "    <tr>\n",
       "      <th>346122</th>\n",
       "      <td>Entre tu amor y el cielo</td>\n",
       "      <td>1950</td>\n",
       "      <td>Roberto Ca?edo</td>\n",
       "      <td>actor</td>\n",
       "      <td>Ram?n</td>\n",
       "      <td>2.0</td>\n",
       "    </tr>\n",
       "    <tr>\n",
       "      <th>956651</th>\n",
       "      <td>Father of the Bride</td>\n",
       "      <td>1950</td>\n",
       "      <td>Art Howard</td>\n",
       "      <td>actor</td>\n",
       "      <td>Wedding Guest</td>\n",
       "      <td>NaN</td>\n",
       "    </tr>\n",
       "    <tr>\n",
       "      <th>1615352</th>\n",
       "      <td>Rider from Tucson</td>\n",
       "      <td>1950</td>\n",
       "      <td>Post Park</td>\n",
       "      <td>actor</td>\n",
       "      <td>Stagecoach Driver</td>\n",
       "      <td>NaN</td>\n",
       "    </tr>\n",
       "    <tr>\n",
       "      <th>2078910</th>\n",
       "      <td>Ambush</td>\n",
       "      <td>1950</td>\n",
       "      <td>Ray Teal</td>\n",
       "      <td>actor</td>\n",
       "      <td>Capt. J.R. Wolverson</td>\n",
       "      <td>12.0</td>\n",
       "    </tr>\n",
       "    <tr>\n",
       "      <th>956665</th>\n",
       "      <td>Peggy</td>\n",
       "      <td>1950</td>\n",
       "      <td>Art Howard</td>\n",
       "      <td>actor</td>\n",
       "      <td>Judge</td>\n",
       "      <td>NaN</td>\n",
       "    </tr>\n",
       "    <tr>\n",
       "      <th>956673</th>\n",
       "      <td>The File on Thelma Jordon</td>\n",
       "      <td>1950</td>\n",
       "      <td>Art Howard</td>\n",
       "      <td>actor</td>\n",
       "      <td>Courtroom Spectator</td>\n",
       "      <td>NaN</td>\n",
       "    </tr>\n",
       "    <tr>\n",
       "      <th>2078941</th>\n",
       "      <td>Convicted</td>\n",
       "      <td>1950</td>\n",
       "      <td>Ray Teal</td>\n",
       "      <td>actor</td>\n",
       "      <td>Cell Block</td>\n",
       "      <td>NaN</td>\n",
       "    </tr>\n",
       "    <tr>\n",
       "      <th>2078942</th>\n",
       "      <td>Convicted</td>\n",
       "      <td>1950</td>\n",
       "      <td>Ray Teal</td>\n",
       "      <td>actor</td>\n",
       "      <td>Yard Guard</td>\n",
       "      <td>NaN</td>\n",
       "    </tr>\n",
       "    <tr>\n",
       "      <th>2078948</th>\n",
       "      <td>Davy Crockett, Indian Scout</td>\n",
       "      <td>1950</td>\n",
       "      <td>Ray Teal</td>\n",
       "      <td>actor</td>\n",
       "      <td>Capt. McHale</td>\n",
       "      <td>14.0</td>\n",
       "    </tr>\n",
       "    <tr>\n",
       "      <th>2078951</th>\n",
       "      <td>Deadly Is the Female</td>\n",
       "      <td>1950</td>\n",
       "      <td>Ray Teal</td>\n",
       "      <td>actor</td>\n",
       "      <td>California Border Inspector</td>\n",
       "      <td>NaN</td>\n",
       "    </tr>\n",
       "    <tr>\n",
       "      <th>2078961</th>\n",
       "      <td>Edge of Doom</td>\n",
       "      <td>1950</td>\n",
       "      <td>Ray Teal</td>\n",
       "      <td>actor</td>\n",
       "      <td>Ned Moore</td>\n",
       "      <td>16.0</td>\n",
       "    </tr>\n",
       "    <tr>\n",
       "      <th>956684</th>\n",
       "      <td>To Please a Lady</td>\n",
       "      <td>1950</td>\n",
       "      <td>Art Howard</td>\n",
       "      <td>actor</td>\n",
       "      <td>Racing Spectator</td>\n",
       "      <td>NaN</td>\n",
       "    </tr>\n",
       "    <tr>\n",
       "      <th>956699</th>\n",
       "      <td>Cage of Gold</td>\n",
       "      <td>1950</td>\n",
       "      <td>Arthur (III) Howard</td>\n",
       "      <td>actor</td>\n",
       "      <td>Registry Office Bridegroom</td>\n",
       "      <td>NaN</td>\n",
       "    </tr>\n",
       "    <tr>\n",
       "      <th>956703</th>\n",
       "      <td>Dick Barton at Bay</td>\n",
       "      <td>1950</td>\n",
       "      <td>Arthur (III) Howard</td>\n",
       "      <td>actor</td>\n",
       "      <td>Minor Role</td>\n",
       "      <td>NaN</td>\n",
       "    </tr>\n",
       "    <tr>\n",
       "      <th>345443</th>\n",
       "      <td>The Elusive Pimpernel</td>\n",
       "      <td>1950</td>\n",
       "      <td>Robert Cawdron</td>\n",
       "      <td>actor</td>\n",
       "      <td>Doorman at the French Embassy</td>\n",
       "      <td>NaN</td>\n",
       "    </tr>\n",
       "    <tr>\n",
       "      <th>956704</th>\n",
       "      <td>Emergency Wedding</td>\n",
       "      <td>1950</td>\n",
       "      <td>Arthur (III) Howard</td>\n",
       "      <td>actor</td>\n",
       "      <td>Bit Part</td>\n",
       "      <td>NaN</td>\n",
       "    </tr>\n",
       "    <tr>\n",
       "      <th>345439</th>\n",
       "      <td>State Secret</td>\n",
       "      <td>1950</td>\n",
       "      <td>Robert Cawdron</td>\n",
       "      <td>actor</td>\n",
       "      <td>State Policeman</td>\n",
       "      <td>NaN</td>\n",
       "    </tr>\n",
       "    <tr>\n",
       "      <th>345438</th>\n",
       "      <td>Stage Fright</td>\n",
       "      <td>1950</td>\n",
       "      <td>Robert Cawdron</td>\n",
       "      <td>actor</td>\n",
       "      <td>Policeman</td>\n",
       "      <td>NaN</td>\n",
       "    </tr>\n",
       "    <tr>\n",
       "      <th>1615386</th>\n",
       "      <td>Trail of the Rustlers</td>\n",
       "      <td>1950</td>\n",
       "      <td>Post Park</td>\n",
       "      <td>actor</td>\n",
       "      <td>Stage Driver</td>\n",
       "      <td>NaN</td>\n",
       "    </tr>\n",
       "    <tr>\n",
       "      <th>345430</th>\n",
       "      <td>Highly Dangerous</td>\n",
       "      <td>1950</td>\n",
       "      <td>Robert Cawdron</td>\n",
       "      <td>actor</td>\n",
       "      <td>Soldier at Barrier During Fire</td>\n",
       "      <td>NaN</td>\n",
       "    </tr>\n",
       "    <tr>\n",
       "      <th>2078764</th>\n",
       "      <td>Vigilante Hideout</td>\n",
       "      <td>1950</td>\n",
       "      <td>Guy Teague</td>\n",
       "      <td>actor</td>\n",
       "      <td>Blackie</td>\n",
       "      <td>9.0</td>\n",
       "    </tr>\n",
       "    <tr>\n",
       "      <th>1615821</th>\n",
       "      <td>Dangerous Assignment</td>\n",
       "      <td>1950</td>\n",
       "      <td>MacDonald Parke</td>\n",
       "      <td>actor</td>\n",
       "      <td>B.G. Bradley</td>\n",
       "      <td>4.0</td>\n",
       "    </tr>\n",
       "    <tr>\n",
       "      <th>347621</th>\n",
       "      <td>Il brigante Musolino</td>\n",
       "      <td>1950</td>\n",
       "      <td>Guido Celano</td>\n",
       "      <td>actor</td>\n",
       "      <td>Brigadier Rinaldi</td>\n",
       "      <td>5.0</td>\n",
       "    </tr>\n",
       "    <tr>\n",
       "      <th>956038</th>\n",
       "      <td>The Blue Lamp</td>\n",
       "      <td>1950</td>\n",
       "      <td>Glyn Houston</td>\n",
       "      <td>actor</td>\n",
       "      <td>Barrow Boy</td>\n",
       "      <td>NaN</td>\n",
       "    </tr>\n",
       "    <tr>\n",
       "      <th>956041</th>\n",
       "      <td>The Clouded Yellow</td>\n",
       "      <td>1950</td>\n",
       "      <td>Glyn Houston</td>\n",
       "      <td>actor</td>\n",
       "      <td>Lancastrian Bus Conductor</td>\n",
       "      <td>NaN</td>\n",
       "    </tr>\n",
       "    <tr>\n",
       "      <th>956056</th>\n",
       "      <td>Trio</td>\n",
       "      <td>1950</td>\n",
       "      <td>Glyn Houston</td>\n",
       "      <td>actor</td>\n",
       "      <td>Ted (in segment The Verger)</td>\n",
       "      <td>6.0</td>\n",
       "    </tr>\n",
       "    <tr>\n",
       "      <th>347606</th>\n",
       "      <td>Donne e briganti</td>\n",
       "      <td>1950</td>\n",
       "      <td>Guido Celano</td>\n",
       "      <td>actor</td>\n",
       "      <td>Borbonne Sergeant</td>\n",
       "      <td>7.0</td>\n",
       "    </tr>\n",
       "    <tr>\n",
       "      <th>956058</th>\n",
       "      <td>Waterfront</td>\n",
       "      <td>1950</td>\n",
       "      <td>Glyn Houston</td>\n",
       "      <td>actor</td>\n",
       "      <td>Sailor</td>\n",
       "      <td>NaN</td>\n",
       "    </tr>\n",
       "    <tr>\n",
       "      <th>...</th>\n",
       "      <td>...</td>\n",
       "      <td>...</td>\n",
       "      <td>...</td>\n",
       "      <td>...</td>\n",
       "      <td>...</td>\n",
       "      <td>...</td>\n",
       "    </tr>\n",
       "    <tr>\n",
       "      <th>1675203</th>\n",
       "      <td>Hlavni vyhra</td>\n",
       "      <td>1959</td>\n",
       "      <td>Jan Pivec</td>\n",
       "      <td>actor</td>\n",
       "      <td>Vacek, reditel</td>\n",
       "      <td>5.0</td>\n",
       "    </tr>\n",
       "    <tr>\n",
       "      <th>243259</th>\n",
       "      <td>Pervyy den mira</td>\n",
       "      <td>1959</td>\n",
       "      <td>Heinz (V) Braun</td>\n",
       "      <td>actor</td>\n",
       "      <td>SS-Hauptsturmf?hrer</td>\n",
       "      <td>NaN</td>\n",
       "    </tr>\n",
       "    <tr>\n",
       "      <th>520148</th>\n",
       "      <td>The Flying Fontaines</td>\n",
       "      <td>1959</td>\n",
       "      <td>Harold DeGarro</td>\n",
       "      <td>actor</td>\n",
       "      <td>Stilt Walker</td>\n",
       "      <td>NaN</td>\n",
       "    </tr>\n",
       "    <tr>\n",
       "      <th>1674525</th>\n",
       "      <td>Vasiliy Surikov</td>\n",
       "      <td>1959</td>\n",
       "      <td>Vladimir Pitsek</td>\n",
       "      <td>actor</td>\n",
       "      <td>Zaika</td>\n",
       "      <td>NaN</td>\n",
       "    </tr>\n",
       "    <tr>\n",
       "      <th>880365</th>\n",
       "      <td>The Best of Everything</td>\n",
       "      <td>1959</td>\n",
       "      <td>Donald Harron</td>\n",
       "      <td>actor</td>\n",
       "      <td>Sidney Carter</td>\n",
       "      <td>9.0</td>\n",
       "    </tr>\n",
       "    <tr>\n",
       "      <th>1674706</th>\n",
       "      <td>Strictly Confidential</td>\n",
       "      <td>1959</td>\n",
       "      <td>Norman Pitt</td>\n",
       "      <td>actor</td>\n",
       "      <td>Muspratt</td>\n",
       "      <td>NaN</td>\n",
       "    </tr>\n",
       "    <tr>\n",
       "      <th>520309</th>\n",
       "      <td>The House of the Seven Hawks</td>\n",
       "      <td>1959</td>\n",
       "      <td>Guy Deghy</td>\n",
       "      <td>actor</td>\n",
       "      <td>Desk Lieutenant</td>\n",
       "      <td>14.0</td>\n",
       "    </tr>\n",
       "    <tr>\n",
       "      <th>520314</th>\n",
       "      <td>The Mouse That Roared</td>\n",
       "      <td>1959</td>\n",
       "      <td>Guy Deghy</td>\n",
       "      <td>actor</td>\n",
       "      <td>Soviet Ambassador</td>\n",
       "      <td>NaN</td>\n",
       "    </tr>\n",
       "    <tr>\n",
       "      <th>1128444</th>\n",
       "      <td>Prelude tot de dageraad</td>\n",
       "      <td>1959</td>\n",
       "      <td>Staf Knop</td>\n",
       "      <td>actor</td>\n",
       "      <td>Nozem (2)</td>\n",
       "      <td>NaN</td>\n",
       "    </tr>\n",
       "    <tr>\n",
       "      <th>879937</th>\n",
       "      <td>Battle Flame</td>\n",
       "      <td>1959</td>\n",
       "      <td>Richard (II) Harrison</td>\n",
       "      <td>actor</td>\n",
       "      <td>2nd Lt. Wechsler</td>\n",
       "      <td>8.0</td>\n",
       "    </tr>\n",
       "    <tr>\n",
       "      <th>879740</th>\n",
       "      <td>The Mummy</td>\n",
       "      <td>1959</td>\n",
       "      <td>John (VIII) Harrison</td>\n",
       "      <td>actor</td>\n",
       "      <td>Priest</td>\n",
       "      <td>NaN</td>\n",
       "    </tr>\n",
       "    <tr>\n",
       "      <th>879739</th>\n",
       "      <td>The Man Who Could Cheat Death</td>\n",
       "      <td>1959</td>\n",
       "      <td>John (VIII) Harrison</td>\n",
       "      <td>actor</td>\n",
       "      <td>Servant</td>\n",
       "      <td>NaN</td>\n",
       "    </tr>\n",
       "    <tr>\n",
       "      <th>520431</th>\n",
       "      <td>Les dragueurs</td>\n",
       "      <td>1959</td>\n",
       "      <td>Jean Degrave</td>\n",
       "      <td>actor</td>\n",
       "      <td>Un invit? de la surboum</td>\n",
       "      <td>NaN</td>\n",
       "    </tr>\n",
       "    <tr>\n",
       "      <th>1674913</th>\n",
       "      <td>High School Big Shot</td>\n",
       "      <td>1959</td>\n",
       "      <td>Tom Pittman</td>\n",
       "      <td>actor</td>\n",
       "      <td>Marvin 'Marv' Grant</td>\n",
       "      <td>1.0</td>\n",
       "    </tr>\n",
       "    <tr>\n",
       "      <th>520574</th>\n",
       "      <td>Primo amore</td>\n",
       "      <td>1959</td>\n",
       "      <td>Niccol? DeGuido</td>\n",
       "      <td>actor</td>\n",
       "      <td>Enrico</td>\n",
       "      <td>NaN</td>\n",
       "    </tr>\n",
       "    <tr>\n",
       "      <th>520671</th>\n",
       "      <td>It Happened to Jane</td>\n",
       "      <td>1959</td>\n",
       "      <td>Carter (III) DeHaven</td>\n",
       "      <td>actor</td>\n",
       "      <td>Fisher</td>\n",
       "      <td>NaN</td>\n",
       "    </tr>\n",
       "    <tr>\n",
       "      <th>520814</th>\n",
       "      <td>Cast a Long Shadow</td>\n",
       "      <td>1959</td>\n",
       "      <td>John Dehner</td>\n",
       "      <td>actor</td>\n",
       "      <td>Chip Donohue</td>\n",
       "      <td>3.0</td>\n",
       "    </tr>\n",
       "    <tr>\n",
       "      <th>1674919</th>\n",
       "      <td>Verboten!</td>\n",
       "      <td>1959</td>\n",
       "      <td>Tom Pittman</td>\n",
       "      <td>actor</td>\n",
       "      <td>Bruno Eckart</td>\n",
       "      <td>3.0</td>\n",
       "    </tr>\n",
       "    <tr>\n",
       "      <th>1480425</th>\n",
       "      <td>La vida alrededor</td>\n",
       "      <td>1959</td>\n",
       "      <td>Manolo Mor?n</td>\n",
       "      <td>actor</td>\n",
       "      <td>Ceferino L?pez Gallego 'El Agujetas'</td>\n",
       "      <td>3.0</td>\n",
       "    </tr>\n",
       "    <tr>\n",
       "      <th>1128969</th>\n",
       "      <td>Operation Amsterdam</td>\n",
       "      <td>1959</td>\n",
       "      <td>Alexander Knox</td>\n",
       "      <td>actor</td>\n",
       "      <td>Walter Keyser</td>\n",
       "      <td>4.0</td>\n",
       "    </tr>\n",
       "    <tr>\n",
       "      <th>242816</th>\n",
       "      <td>Komandirat na otryada</td>\n",
       "      <td>1959</td>\n",
       "      <td>Ivan Bratanov</td>\n",
       "      <td>actor</td>\n",
       "      <td>Komitata</td>\n",
       "      <td>4.0</td>\n",
       "    </tr>\n",
       "    <tr>\n",
       "      <th>1950956</th>\n",
       "      <td>The Beat Generation</td>\n",
       "      <td>1959</td>\n",
       "      <td>Cole Simpson</td>\n",
       "      <td>actor</td>\n",
       "      <td>Beatnik</td>\n",
       "      <td>NaN</td>\n",
       "    </tr>\n",
       "    <tr>\n",
       "      <th>879495</th>\n",
       "      <td>The Remarkable Mr. Pennypacker</td>\n",
       "      <td>1959</td>\n",
       "      <td>Donald (II) Harrison</td>\n",
       "      <td>actor</td>\n",
       "      <td>Bobby Pennypacker</td>\n",
       "      <td>NaN</td>\n",
       "    </tr>\n",
       "    <tr>\n",
       "      <th>1480421</th>\n",
       "      <td>La casa de la Troya</td>\n",
       "      <td>1959</td>\n",
       "      <td>Manolo Mor?n</td>\n",
       "      <td>actor</td>\n",
       "      <td>Mingui?os</td>\n",
       "      <td>31.0</td>\n",
       "    </tr>\n",
       "    <tr>\n",
       "      <th>2161453</th>\n",
       "      <td>The Young Land</td>\n",
       "      <td>1959</td>\n",
       "      <td>Dale Van Sickel</td>\n",
       "      <td>actor</td>\n",
       "      <td>Cowboy</td>\n",
       "      <td>NaN</td>\n",
       "    </tr>\n",
       "    <tr>\n",
       "      <th>1675151</th>\n",
       "      <td>Quem Roubou Meu Samba?</td>\n",
       "      <td>1959</td>\n",
       "      <td>Pituca</td>\n",
       "      <td>actor</td>\n",
       "      <td>Terrinha</td>\n",
       "      <td>5.0</td>\n",
       "    </tr>\n",
       "    <tr>\n",
       "      <th>879476</th>\n",
       "      <td>The Remarkable Mr. Pennypacker</td>\n",
       "      <td>1959</td>\n",
       "      <td>David (XIII) Harrison</td>\n",
       "      <td>actor</td>\n",
       "      <td>Dick Pennypacker</td>\n",
       "      <td>NaN</td>\n",
       "    </tr>\n",
       "    <tr>\n",
       "      <th>1675201</th>\n",
       "      <td>Dum na Orechovce</td>\n",
       "      <td>1959</td>\n",
       "      <td>Jan Pivec</td>\n",
       "      <td>actor</td>\n",
       "      <td>Professor Jaroslav Mares</td>\n",
       "      <td>3.0</td>\n",
       "    </tr>\n",
       "    <tr>\n",
       "      <th>1677639</th>\n",
       "      <td>Il moralista</td>\n",
       "      <td>1959</td>\n",
       "      <td>Alberto Plebani</td>\n",
       "      <td>actor</td>\n",
       "      <td>Count Vasalli Bertinacci</td>\n",
       "      <td>NaN</td>\n",
       "    </tr>\n",
       "    <tr>\n",
       "      <th>684445</th>\n",
       "      <td>Du rififi chez les femmes</td>\n",
       "      <td>1959</td>\n",
       "      <td>Roland Fleury</td>\n",
       "      <td>actor</td>\n",
       "      <td>Bit part</td>\n",
       "      <td>31.0</td>\n",
       "    </tr>\n",
       "  </tbody>\n",
       "</table>\n",
       "<p>152229 rows × 6 columns</p>\n",
       "</div>"
      ],
      "text/plain": [
       "                                  title  year                   name   type  \\\n",
       "971522                      The Capture  1950             Jimmy Hunt  actor   \n",
       "346132                    La casa chica  1950         Roberto Ca?edo  actor   \n",
       "346122         Entre tu amor y el cielo  1950         Roberto Ca?edo  actor   \n",
       "956651              Father of the Bride  1950             Art Howard  actor   \n",
       "1615352               Rider from Tucson  1950              Post Park  actor   \n",
       "2078910                          Ambush  1950               Ray Teal  actor   \n",
       "956665                            Peggy  1950             Art Howard  actor   \n",
       "956673        The File on Thelma Jordon  1950             Art Howard  actor   \n",
       "2078941                       Convicted  1950               Ray Teal  actor   \n",
       "2078942                       Convicted  1950               Ray Teal  actor   \n",
       "2078948     Davy Crockett, Indian Scout  1950               Ray Teal  actor   \n",
       "2078951            Deadly Is the Female  1950               Ray Teal  actor   \n",
       "2078961                    Edge of Doom  1950               Ray Teal  actor   \n",
       "956684                 To Please a Lady  1950             Art Howard  actor   \n",
       "956699                     Cage of Gold  1950    Arthur (III) Howard  actor   \n",
       "956703               Dick Barton at Bay  1950    Arthur (III) Howard  actor   \n",
       "345443            The Elusive Pimpernel  1950         Robert Cawdron  actor   \n",
       "956704                Emergency Wedding  1950    Arthur (III) Howard  actor   \n",
       "345439                     State Secret  1950         Robert Cawdron  actor   \n",
       "345438                     Stage Fright  1950         Robert Cawdron  actor   \n",
       "1615386           Trail of the Rustlers  1950              Post Park  actor   \n",
       "345430                 Highly Dangerous  1950         Robert Cawdron  actor   \n",
       "2078764               Vigilante Hideout  1950             Guy Teague  actor   \n",
       "1615821            Dangerous Assignment  1950        MacDonald Parke  actor   \n",
       "347621             Il brigante Musolino  1950           Guido Celano  actor   \n",
       "956038                    The Blue Lamp  1950           Glyn Houston  actor   \n",
       "956041               The Clouded Yellow  1950           Glyn Houston  actor   \n",
       "956056                             Trio  1950           Glyn Houston  actor   \n",
       "347606                 Donne e briganti  1950           Guido Celano  actor   \n",
       "956058                       Waterfront  1950           Glyn Houston  actor   \n",
       "...                                 ...   ...                    ...    ...   \n",
       "1675203                    Hlavni vyhra  1959              Jan Pivec  actor   \n",
       "243259                  Pervyy den mira  1959        Heinz (V) Braun  actor   \n",
       "520148             The Flying Fontaines  1959         Harold DeGarro  actor   \n",
       "1674525                 Vasiliy Surikov  1959        Vladimir Pitsek  actor   \n",
       "880365           The Best of Everything  1959          Donald Harron  actor   \n",
       "1674706           Strictly Confidential  1959            Norman Pitt  actor   \n",
       "520309     The House of the Seven Hawks  1959              Guy Deghy  actor   \n",
       "520314            The Mouse That Roared  1959              Guy Deghy  actor   \n",
       "1128444         Prelude tot de dageraad  1959              Staf Knop  actor   \n",
       "879937                     Battle Flame  1959  Richard (II) Harrison  actor   \n",
       "879740                        The Mummy  1959   John (VIII) Harrison  actor   \n",
       "879739    The Man Who Could Cheat Death  1959   John (VIII) Harrison  actor   \n",
       "520431                    Les dragueurs  1959           Jean Degrave  actor   \n",
       "1674913            High School Big Shot  1959            Tom Pittman  actor   \n",
       "520574                      Primo amore  1959        Niccol? DeGuido  actor   \n",
       "520671              It Happened to Jane  1959   Carter (III) DeHaven  actor   \n",
       "520814               Cast a Long Shadow  1959            John Dehner  actor   \n",
       "1674919                       Verboten!  1959            Tom Pittman  actor   \n",
       "1480425               La vida alrededor  1959           Manolo Mor?n  actor   \n",
       "1128969             Operation Amsterdam  1959         Alexander Knox  actor   \n",
       "242816            Komandirat na otryada  1959          Ivan Bratanov  actor   \n",
       "1950956             The Beat Generation  1959           Cole Simpson  actor   \n",
       "879495   The Remarkable Mr. Pennypacker  1959   Donald (II) Harrison  actor   \n",
       "1480421             La casa de la Troya  1959           Manolo Mor?n  actor   \n",
       "2161453                  The Young Land  1959        Dale Van Sickel  actor   \n",
       "1675151          Quem Roubou Meu Samba?  1959                 Pituca  actor   \n",
       "879476   The Remarkable Mr. Pennypacker  1959  David (XIII) Harrison  actor   \n",
       "1675201                Dum na Orechovce  1959              Jan Pivec  actor   \n",
       "1677639                    Il moralista  1959        Alberto Plebani  actor   \n",
       "684445        Du rififi chez les femmes  1959          Roland Fleury  actor   \n",
       "\n",
       "                                    character     n  \n",
       "971522                                   Mike   5.0  \n",
       "346132                   Dr. Fernando Mendoza   2.0  \n",
       "346122                                  Ram?n   2.0  \n",
       "956651                          Wedding Guest   NaN  \n",
       "1615352                     Stagecoach Driver   NaN  \n",
       "2078910                  Capt. J.R. Wolverson  12.0  \n",
       "956665                                  Judge   NaN  \n",
       "956673                    Courtroom Spectator   NaN  \n",
       "2078941                            Cell Block   NaN  \n",
       "2078942                            Yard Guard   NaN  \n",
       "2078948                          Capt. McHale  14.0  \n",
       "2078951           California Border Inspector   NaN  \n",
       "2078961                             Ned Moore  16.0  \n",
       "956684                       Racing Spectator   NaN  \n",
       "956699             Registry Office Bridegroom   NaN  \n",
       "956703                             Minor Role   NaN  \n",
       "345443          Doorman at the French Embassy   NaN  \n",
       "956704                               Bit Part   NaN  \n",
       "345439                        State Policeman   NaN  \n",
       "345438                              Policeman   NaN  \n",
       "1615386                          Stage Driver   NaN  \n",
       "345430         Soldier at Barrier During Fire   NaN  \n",
       "2078764                               Blackie   9.0  \n",
       "1615821                          B.G. Bradley   4.0  \n",
       "347621                      Brigadier Rinaldi   5.0  \n",
       "956038                             Barrow Boy   NaN  \n",
       "956041              Lancastrian Bus Conductor   NaN  \n",
       "956056            Ted (in segment The Verger)   6.0  \n",
       "347606                      Borbonne Sergeant   7.0  \n",
       "956058                                 Sailor   NaN  \n",
       "...                                       ...   ...  \n",
       "1675203                        Vacek, reditel   5.0  \n",
       "243259                    SS-Hauptsturmf?hrer   NaN  \n",
       "520148                           Stilt Walker   NaN  \n",
       "1674525                                 Zaika   NaN  \n",
       "880365                          Sidney Carter   9.0  \n",
       "1674706                              Muspratt   NaN  \n",
       "520309                        Desk Lieutenant  14.0  \n",
       "520314                      Soviet Ambassador   NaN  \n",
       "1128444                             Nozem (2)   NaN  \n",
       "879937                       2nd Lt. Wechsler   8.0  \n",
       "879740                                 Priest   NaN  \n",
       "879739                                Servant   NaN  \n",
       "520431                Un invit? de la surboum   NaN  \n",
       "1674913                   Marvin 'Marv' Grant   1.0  \n",
       "520574                                 Enrico   NaN  \n",
       "520671                                 Fisher   NaN  \n",
       "520814                           Chip Donohue   3.0  \n",
       "1674919                          Bruno Eckart   3.0  \n",
       "1480425  Ceferino L?pez Gallego 'El Agujetas'   3.0  \n",
       "1128969                         Walter Keyser   4.0  \n",
       "242816                               Komitata   4.0  \n",
       "1950956                               Beatnik   NaN  \n",
       "879495                      Bobby Pennypacker   NaN  \n",
       "1480421                             Mingui?os  31.0  \n",
       "2161453                                Cowboy   NaN  \n",
       "1675151                              Terrinha   5.0  \n",
       "879476                       Dick Pennypacker   NaN  \n",
       "1675201              Professor Jaroslav Mares   3.0  \n",
       "1677639              Count Vasalli Bertinacci   NaN  \n",
       "684445                               Bit part  31.0  \n",
       "\n",
       "[152229 rows x 6 columns]"
      ]
     },
     "execution_count": 76,
     "metadata": {},
     "output_type": "execute_result"
    }
   ],
   "source": [
    "c = cast\n",
    "c = c[c.type == \"actor\"]\n",
    "c= c[c.year //10 == 195]\n",
    "\n",
    "c= c.sort_values('year')\n",
    "c\n",
    "#len(c)"
   ]
  },
  {
   "cell_type": "code",
   "execution_count": null,
   "metadata": {
    "collapsed": true
   },
   "outputs": [],
   "source": []
  },
  {
   "cell_type": "markdown",
   "metadata": {
    "collapsed": true
   },
   "source": [
    "### How many roles were avilable for actresses in the 1950s?"
   ]
  },
  {
   "cell_type": "code",
   "execution_count": 77,
   "metadata": {
    "collapsed": false
   },
   "outputs": [
    {
     "data": {
      "text/plain": [
       "55286"
      ]
     },
     "execution_count": 77,
     "metadata": {},
     "output_type": "execute_result"
    }
   ],
   "source": [
    "c = cast\n",
    "c = c[c.year // 10 == 195]\n",
    "c = c[c.type == 'actress']\n",
    "len(c)"
   ]
  },
  {
   "cell_type": "code",
   "execution_count": null,
   "metadata": {
    "collapsed": true
   },
   "outputs": [],
   "source": []
  },
  {
   "cell_type": "markdown",
   "metadata": {
    "collapsed": true
   },
   "source": [
    "### How many leading roles (n=1) were available from the beginning of film history through 1980?"
   ]
  },
  {
   "cell_type": "code",
   "execution_count": 78,
   "metadata": {
    "collapsed": false
   },
   "outputs": [
    {
     "data": {
      "text/plain": [
       "62806"
      ]
     },
     "execution_count": 78,
     "metadata": {},
     "output_type": "execute_result"
    }
   ],
   "source": [
    "c = cast\n",
    "c = c[c.n==1] \n",
    "c = c[c.year <= 1980]\n",
    "len(c)"
   ]
  },
  {
   "cell_type": "code",
   "execution_count": null,
   "metadata": {
    "collapsed": true
   },
   "outputs": [],
   "source": []
  },
  {
   "cell_type": "markdown",
   "metadata": {
    "collapsed": true
   },
   "source": [
    "### How many non-leading roles were available through from the beginning of film history through 1980?"
   ]
  },
  {
   "cell_type": "code",
   "execution_count": 79,
   "metadata": {
    "collapsed": false
   },
   "outputs": [
    {
     "data": {
      "text/plain": [
       "1076860"
      ]
     },
     "execution_count": 79,
     "metadata": {},
     "output_type": "execute_result"
    }
   ],
   "source": [
    "c = cast\n",
    "c = c[c.n!=1] \n",
    "c = c[c.year <= 1980]\n",
    "len(c)"
   ]
  },
  {
   "cell_type": "code",
   "execution_count": null,
   "metadata": {
    "collapsed": true
   },
   "outputs": [],
   "source": []
  },
  {
   "cell_type": "markdown",
   "metadata": {
    "collapsed": true
   },
   "source": [
    "### How many roles through 1980 were minor enough that they did not warrant a numeric \"n\" rank?"
   ]
  },
  {
   "cell_type": "code",
   "execution_count": 81,
   "metadata": {
    "collapsed": false
   },
   "outputs": [
    {
     "data": {
      "text/plain": [
       "430267"
      ]
     },
     "execution_count": 81,
     "metadata": {},
     "output_type": "execute_result"
    }
   ],
   "source": [
    "c = cast\n",
    "c = c[c.n.isnull()] \n",
    "c = c[c.year <= 1980]\n",
    "len(c)"
   ]
  },
  {
   "cell_type": "code",
   "execution_count": null,
   "metadata": {
    "collapsed": true
   },
   "outputs": [],
   "source": []
  }
 ],
 "metadata": {
  "kernelspec": {
   "display_name": "Python 3",
   "language": "python",
   "name": "python3"
  },
  "language_info": {
   "codemirror_mode": {
    "name": "ipython",
    "version": 3
   },
   "file_extension": ".py",
   "mimetype": "text/x-python",
   "name": "python",
   "nbconvert_exporter": "python",
   "pygments_lexer": "ipython3",
   "version": "3.5.1"
  }
 },
 "nbformat": 4,
 "nbformat_minor": 0
}
